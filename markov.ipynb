{
 "cells": [
  {
   "cell_type": "code",
   "execution_count": 1,
   "metadata": {
    "collapsed": true
   },
   "outputs": [],
   "source": [
    "import nltk\n",
    "from nltk.util import ngrams\n",
    "from nltk.corpus import movie_reviews\n",
    "\n",
    "from textblob import TextBlob\n",
    "\n",
    "import pandas as pd\n",
    "from collections import defaultdict\n",
    "from operator import itemgetter"
   ]
  },
  {
   "cell_type": "markdown",
   "metadata": {},
   "source": [
    "### here we are will look into a list of documents in terms of their text"
   ]
  },
  {
   "cell_type": "code",
   "execution_count": 2,
   "metadata": {
    "collapsed": false
   },
   "outputs": [
    {
     "data": {
      "text/plain": [
       "[['plot', ':', 'two', 'teen', 'couples', 'go', 'to', ...],\n",
       " ['the', 'happy', 'bastard', \"'\", 's', 'quick', 'movie', ...],\n",
       " ['it', 'is', 'movies', 'like', 'these', 'that', 'make', ...],\n",
       " ['\"', 'quest', 'for', 'camelot', '\"', 'is', 'warner', ...],\n",
       " ['synopsis', ':', 'a', 'mentally', 'unstable', 'man', ...]]"
      ]
     },
     "execution_count": 2,
     "metadata": {},
     "output_type": "execute_result"
    }
   ],
   "source": [
    "fileids = movie_reviews.fileids()[:5]\n",
    "doc_words = [movie_reviews.words(fileid) for fileid in fileids]\n",
    "doc_words"
   ]
  },
  {
   "cell_type": "code",
   "execution_count": 3,
   "metadata": {
    "collapsed": false
   },
   "outputs": [
    {
     "name": "stdout",
     "output_type": "stream",
     "text": [
      "plot : two teen couples go to a church party , drink and then drive . they get into an accident . on\n"
     ]
    }
   ],
   "source": [
    "documents = [' '.join(words) for words in doc_words]\n",
    "# we are getting 5 reviews, each document is a list of words (hence 0)\n",
    "# and then get first 20 words.\n",
    "print(documents[:1][0][:100])"
   ]
  },
  {
   "cell_type": "markdown",
   "metadata": {},
   "source": [
    "### How about getting rid of punctuation"
   ]
  },
  {
   "cell_type": "code",
   "execution_count": 4,
   "metadata": {
    "collapsed": false
   },
   "outputs": [
    {
     "data": {
      "text/plain": [
       "['i',\n",
       " 'me',\n",
       " 'my',\n",
       " 'myself',\n",
       " 'we',\n",
       " 'our',\n",
       " 'ours',\n",
       " 'ourselves',\n",
       " 'you',\n",
       " 'your',\n",
       " 'yours',\n",
       " 'yourself',\n",
       " 'yourselves',\n",
       " 'he',\n",
       " 'him',\n",
       " 'his',\n",
       " 'himself',\n",
       " 'she',\n",
       " 'her',\n",
       " 'hers',\n",
       " 'herself',\n",
       " 'it',\n",
       " 'its',\n",
       " 'itself',\n",
       " 'they',\n",
       " 'them',\n",
       " 'their',\n",
       " 'theirs',\n",
       " 'themselves',\n",
       " 'what',\n",
       " 'which',\n",
       " 'who',\n",
       " 'whom',\n",
       " 'this',\n",
       " 'that',\n",
       " 'these',\n",
       " 'those',\n",
       " 'am',\n",
       " 'is',\n",
       " 'are',\n",
       " 'was',\n",
       " 'were',\n",
       " 'be',\n",
       " 'been',\n",
       " 'being',\n",
       " 'have',\n",
       " 'has',\n",
       " 'had',\n",
       " 'having',\n",
       " 'do',\n",
       " 'does',\n",
       " 'did',\n",
       " 'doing',\n",
       " 'a',\n",
       " 'an',\n",
       " 'the',\n",
       " 'and',\n",
       " 'but',\n",
       " 'if',\n",
       " 'or',\n",
       " 'because',\n",
       " 'as',\n",
       " 'until',\n",
       " 'while',\n",
       " 'of',\n",
       " 'at',\n",
       " 'by',\n",
       " 'for',\n",
       " 'with',\n",
       " 'about',\n",
       " 'against',\n",
       " 'between',\n",
       " 'into',\n",
       " 'through',\n",
       " 'during',\n",
       " 'before',\n",
       " 'after',\n",
       " 'above',\n",
       " 'below',\n",
       " 'to',\n",
       " 'from',\n",
       " 'up',\n",
       " 'down',\n",
       " 'in',\n",
       " 'out',\n",
       " 'on',\n",
       " 'off',\n",
       " 'over',\n",
       " 'under',\n",
       " 'again',\n",
       " 'further',\n",
       " 'then',\n",
       " 'once',\n",
       " 'here',\n",
       " 'there',\n",
       " 'when',\n",
       " 'where',\n",
       " 'why',\n",
       " 'how',\n",
       " 'all',\n",
       " 'any',\n",
       " 'both',\n",
       " 'each',\n",
       " 'few',\n",
       " 'more',\n",
       " 'most',\n",
       " 'other',\n",
       " 'some',\n",
       " 'such',\n",
       " 'no',\n",
       " 'nor',\n",
       " 'not',\n",
       " 'only',\n",
       " 'own',\n",
       " 'same',\n",
       " 'so',\n",
       " 'than',\n",
       " 'too',\n",
       " 'very',\n",
       " 's',\n",
       " 't',\n",
       " 'can',\n",
       " 'will',\n",
       " 'just',\n",
       " 'don',\n",
       " 'should',\n",
       " 'now',\n",
       " 'd',\n",
       " 'll',\n",
       " 'm',\n",
       " 'o',\n",
       " 're',\n",
       " 've',\n",
       " 'y',\n",
       " 'ain',\n",
       " 'aren',\n",
       " 'couldn',\n",
       " 'didn',\n",
       " 'doesn',\n",
       " 'hadn',\n",
       " 'hasn',\n",
       " 'haven',\n",
       " 'isn',\n",
       " 'ma',\n",
       " 'mightn',\n",
       " 'mustn',\n",
       " 'needn',\n",
       " 'shan',\n",
       " 'shouldn',\n",
       " 'wasn',\n",
       " 'weren',\n",
       " 'won',\n",
       " 'wouldn']"
      ]
     },
     "execution_count": 4,
     "metadata": {},
     "output_type": "execute_result"
    }
   ],
   "source": [
    "from nltk.corpus import stopwords\n",
    "stop = stopwords.words('english')\n",
    "stop"
   ]
  },
  {
   "cell_type": "code",
   "execution_count": 5,
   "metadata": {
    "collapsed": false
   },
   "outputs": [
    {
     "name": "stdout",
     "output_type": "stream",
     "text": [
      "plot : two teen couples go to a church party , drink and then drive . they get into an accident . one of the guys dies , but his girlfriend continues to see him in her life , and has nightmares . what ' s the deal ? watch the movie and \" sorta \" find out . . . critique : a mind - fuck movie for the teen generation that touches on a very cool idea , but presents it in a very bad package . which is what makes this review an even harder one to write , since i generally applaud films which attempt to break the mold , mess with your head and such ( lost highway & memento ) , but there are good and bad ways of making all types of films , and these folks just didn ' t snag this one correctly . they seem to have taken this pretty neat concept , but executed it terribly . so what are the problems with the movie ? well , its main problem is that it ' s simply too jumbled . it starts off \" normal \" but then downshifts into this \" fantasy \" world in which you , as an audience member , have no idea what ' s going on . there are dreams , there are characters coming back from the dead , there are others who look like the dead , there are strange apparitions , there are disappearances , there are a looooot of chase scenes , there are tons of weird things that happen , and most of it is simply not explained . now i personally don ' t mind trying to unravel a film every now and then , but when all it does is give me the same clue over and over again , i get kind of fed up after a while , which is this film ' s biggest problem . it ' s obviously got this big secret to hide , but it seems to want to hide it completely until its final five minutes . and do they make things entertaining , thrilling or even engaging , in the meantime ? not really . the sad part is that the arrow and i both dig on flicks like this , so we actually figured most of it out by the half - way point , so all of the strangeness after that did start to make a little bit of sense , but it still didn ' t the make the film all that more entertaining . i guess the bottom line with movies like this is that you should always make sure that the audience is \" into it \" even before they are given the secret password to enter your world of understanding . i mean , showing melissa sagemiller running away from visions for about 20 minutes throughout the movie is just plain lazy ! ! okay , we get it . . . there are people chasing her and we don ' t know who they are . do we really need to see it over and over again ? how about giving us different scenes offering further insight into all of the strangeness going down in the movie ? apparently , the studio took this film away from its director and chopped it up themselves , and it shows . there might ' ve been a pretty decent teen mind - fuck movie in here somewhere , but i guess \" the suits \" decided that turning it into a music video with little edge , would make more sense . the actors are pretty good for the most part , although wes bentley just seemed to be playing the exact same character that he did in american beauty , only in a new neighborhood . but my biggest kudos go out to sagemiller , who holds her own throughout the entire film , and actually has you feeling her character ' s unraveling . overall , the film doesn ' t stick because it doesn ' t entertain , it ' s confusing , it rarely excites and it feels pretty redundant for most of its runtime , despite a pretty cool ending and explanation to all of the craziness that came before it . oh , and by the way , this is not a horror or teen slasher flick . . . it ' s just packaged to look that way because someone is apparently assuming that the genre is still hot with the kids . it also wrapped production two years ago and has been sitting on the shelves ever since . whatever . . . skip it ! where ' s joblo coming from ? a nightmare of elm street 3 ( 7 / 10 ) - blair witch 2 ( 7 / 10 ) - the crow ( 9 / 10 ) - the crow : salvation ( 4 / 10 ) - lost highway ( 10 / 10 ) - memento ( 10 / 10 ) - the others ( 9 / 10 ) - stir of echoes ( 8 / 10 )\n",
      "\n",
      "\n",
      "the happy bastard ' s quick movie review damn that y2k bug . it ' s got a head start in this movie starring jamie lee curtis and another baldwin brother ( william this time ) in a story regarding a crew of a tugboat that comes across a deserted russian tech ship that has a strangeness to it when they kick the power back on . little do they know the power within . . . going for the gore and bringing on a few action sequences here and there , virus still feels very empty , like a movie going for all flash and no substance . we don ' t know why the crew was really out in the middle of nowhere , we don ' t know the origin of what took over the ship ( just that a big pink flashy thing hit the mir ) , and , of course , we don ' t know why donald sutherland is stumbling around drunkenly throughout . here , it ' s just \" hey , let ' s chase these people around with some robots \" . the acting is below average , even from the likes of curtis . you ' re more likely to get a kick out of her work in halloween h20 . sutherland is wasted and baldwin , well , he ' s acting like a baldwin , of course . the real star here are stan winston ' s robot design , some schnazzy cgi , and the occasional good gore shot , like picking into someone ' s brain . so , if robots and body parts really turn you on , here ' s your movie . otherwise , it ' s pretty much a sunken ship of a movie .\n",
      "\n",
      "\n",
      "it is movies like these that make a jaded movie viewer thankful for the invention of the timex indiglo watch . based on the late 1960 ' s television show by the same name , the mod squad tells the tale of three reformed criminals under the employ of the police to go undercover . however , things go wrong as evidence gets stolen and they are immediately under suspicion . of course , the ads make it seem like so much more . quick cuts , cool music , claire dane ' s nice hair and cute outfits , car chases , stuff blowing up , and the like . sounds like a cool movie , does it not ? after the first fifteen minutes , it quickly becomes apparent that it is not . the mod squad is certainly a slick looking production , complete with nice hair and costumes , but that simply isn ' t enough . the film is best described as a cross between an hour - long cop show and a music video , both stretched out into the span of an hour and a half . and with it comes every single clich ? . it doesn ' t really matter that the film is based on a television show , as most of the plot elements have been recycled from everything we ' ve already seen . the characters and acting is nothing spectacular , sometimes even bordering on wooden . claire danes and omar epps deliver their lines as if they are bored , which really transfers onto the audience . the only one to escape relatively unscathed is giovanni ribisi , who plays the resident crazy man , ultimately being the only thing worth watching . unfortunately , even he ' s not enough to save this convoluted mess , as all the characters don ' t do much apart from occupying screen time . with the young cast , cool clothes , nice hair , and hip soundtrack , it appears that the film is geared towards the teenage mindset . despite an american ' r ' rating ( which the content does not justify ) , the film is way too juvenile for the older mindset . information on the characters is literally spoon - fed to the audience ( would it be that hard to show us instead of telling us ? ) , dialogue is poorly written , and the plot is extremely predictable . the way the film progresses , you likely won ' t even care if the heroes are in any jeopardy , because you ' ll know they aren ' t . basing the show on a 1960 ' s television show that nobody remembers is of questionable wisdom , especially when one considers the target audience and the fact that the number of memorable films based on television shows can be counted on one hand ( even one that ' s missing a finger or two ) . the number of times that i checked my watch ( six ) is a clear indication that this film is not one of them . it is clear that the film is nothing more than an attempt to cash in on the teenage spending dollar , judging from the rash of really awful teen - flicks that we ' ve been seeing as of late . avoid this film at all costs .\n",
      "\n",
      "\n",
      "\" quest for camelot \" is warner bros . ' first feature - length , fully - animated attempt to steal clout from disney ' s cartoon empire , but the mouse has no reason to be worried . the only other recent challenger to their throne was last fall ' s promising , if flawed , 20th century fox production \" anastasia , \" but disney ' s \" hercules , \" with its lively cast and colorful palate , had her beat hands - down when it came time to crown 1997 ' s best piece of animation . this year , it ' s no contest , as \" quest for camelot \" is pretty much dead on arrival . even the magic kingdom at its most mediocre -- that ' d be \" pocahontas \" for those of you keeping score -- isn ' t nearly as dull as this . the story revolves around the adventures of free - spirited kayley ( voiced by jessalyn gilsig ) , the early - teen daughter of a belated knight from king arthur ' s round table . kayley ' s only dream is to follow in her father ' s footsteps , and she gets her chance when evil warlord ruber ( gary oldman ) , an ex - round table member - gone - bad , steals arthur ' s magical sword excalibur and accidentally loses it in a dangerous , booby - trapped forest . with the help of hunky , blind timberland - dweller garrett ( carey elwes ) and a two - headed dragon ( eric idle and don rickles ) that ' s always arguing with itself , kayley just might be able to break the medieval sexist mold and prove her worth as a fighter on arthur ' s side . \" quest for camelot \" is missing pure showmanship , an essential element if it ' s ever expected to climb to the high ranks of disney . there ' s nothing here that differentiates \" quest \" from something you ' d see on any given saturday morning cartoon -- subpar animation , instantly forgettable songs , poorly - integrated computerized footage . ( compare kayley and garrett ' s run - in with the angry ogre to herc ' s battle with the hydra . i rest my case . ) even the characters stink -- none of them are remotely interesting , so much that the film becomes a race to see which one can out - bland the others . in the end , it ' s a tie -- they all win . that dragon ' s comedy shtick is awfully cloying , but at least it shows signs of a pulse . at least fans of the early -' 90s tgif television line - up will be thrilled to find jaleel \" urkel \" white and bronson \" balki \" pinchot sharing the same footage . a few scenes are nicely realized ( though i ' m at a loss to recall enough to be specific ) , and the actors providing the voice talent are enthusiastic ( though most are paired up with singers who don ' t sound a thing like them for their big musical moments -- jane seymour and celine dion ? ? ? ) . but one must strain through too much of this mess to find the good . aside from the fact that children will probably be as bored watching this as adults , \" quest for camelot \" ' s most grievous error is its complete lack of personality . and personality , we learn from this mess , goes a very long way .\n",
      "\n",
      "\n",
      "synopsis : a mentally unstable man undergoing psychotherapy saves a boy from a potentially fatal accident and then falls in love with the boy ' s mother , a fledgling restauranteur . unsuccessfully attempting to gain the woman ' s favor , he takes pictures of her and kills a number of people in his way . comments : stalked is yet another in a seemingly endless string of spurned - psychos - getting - their - revenge type movies which are a stable category in the 1990s film industry , both theatrical and direct - to - video . their proliferation may be due in part to the fact that they ' re typically inexpensive to produce ( no special effects , no big name stars ) and serve as vehicles to flash nudity ( allowing them to frequent late - night cable television ) . stalked wavers slightly from the norm in one respect : the psycho never actually has an affair ; on the contrary , he ' s rejected rather quickly ( the psycho typically is an ex - lover , ex - wife , or ex - husband ) . other than that , stalked is just another redundant entry doomed to collect dust on video shelves and viewed after midnight on cable . stalked does not provide much suspense , though that is what it sets out to do . interspersed throughout the opening credits , for instance , a serious - sounding narrator spouts statistics about stalkers and ponders what may cause a man to stalk ( it ' s implicitly implied that all stalkers are men ) while pictures of a boy are shown on the screen . after these credits , a snapshot of actor jay underwood appears . the narrator states that \" this is the story of daryl gleason \" and tells the audience that he is the stalker . of course , really , this is the story of restauranteur brooke daniels . if the movie was meant to be about daryl , then it should have been called stalker not stalked . okay . so we know who the stalker is even before the movie starts ; no guesswork required . stalked proceeds , then , as it begins : obvious , obvious , obvious . the opening sequence , contrived quite a bit , brings daryl and brooke ( the victim ) together . daryl obsesses over brooke , follows her around , and tries to woo her . ultimately rejected by her , his plans become more and more desperate and elaborate . these plans include the all - time , psycho - in - love , cliche : the murdered pet . for some reason , this genre ' s films require a dead pet to be found by the victim stalked . stalked is no exception ( it ' s a cat this time -- found in the shower ) . events like these lead to the inevitable showdown between stalker and stalked , where only one survives ( guess who it invariably always is and you ' ll guess the conclusion to this turkey ) . stalked ' s cast is uniformly adequate : not anything to write home about but also not all that bad either . jay underwood , as the stalker , turns toward melodrama a bit too much . he overdoes it , in other words , but he still manages to be creepy enough to pass as the type of stalker the story demands . maryam d ' abo , about the only actor close to being a star here ( she played the bond chick in the living daylights ) , is equally adequate as the \" stalked \" of the title , even though she seems too ditzy at times to be a strong , independent business - owner . brooke ( d ' abo ) needs to be ditzy , however , for the plot to proceed . toward the end , for example , brooke has her suspicions about daryl . to ensure he won ' t use it as another excuse to see her , brooke decides to return a toolbox he had left at her place to his house . does she just leave the toolbox at the door when no one answers ? of course not . she tries the door , opens it , and wanders around the house . when daryl returns , he enters the house , of course , so our heroine is in danger . somehow , even though her car is parked at the front of the house , right by the front door , daryl is oblivious to her presence inside . the whole episode places an incredible strain on the audience ' s suspension of disbelief and questions the validity of either character ' s intelligence . stalked receives two stars because , even though it is highly derivative and somewhat boring , it is not so bad that it cannot be watched . rated r mostly for several murder scenes and brief nudity in a strip bar , it is not as offensive as many other thrillers in this genre are . if you ' re in the mood for a good suspense film , though , stake out something else .\n",
      "\n",
      "\n"
     ]
    }
   ],
   "source": [
    "for doc in documents:\n",
    "    print(doc)\n",
    "    print('\\n')"
   ]
  },
  {
   "cell_type": "code",
   "execution_count": 6,
   "metadata": {
    "collapsed": false
   },
   "outputs": [
    {
     "data": {
      "text/plain": [
       "WordList(['plot', 'two', 'teen', 'couples', 'go', 'to', 'a', 'church', 'party', 'drink', 'and', 'then', 'drive', 'they', 'get', 'into', 'an', 'accident', 'one', 'of', 'the', 'guys', 'dies', 'but', 'his', 'girlfriend', 'continues', 'to', 'see', 'him', 'in', 'her', 'life', 'and', 'has', 'nightmares', 'what', 's', 'the', 'deal', 'watch', 'the', 'movie', 'and', 'sorta', 'find', 'out', 'critique', 'a', 'mind', 'fuck', 'movie', 'for', 'the', 'teen', 'generation', 'that', 'touches', 'on', 'a', 'very', 'cool', 'idea', 'but', 'presents', 'it', 'in', 'a', 'very', 'bad', 'package', 'which', 'is', 'what', 'makes', 'this', 'review', 'an', 'even', 'harder', 'one', 'to', 'write', 'since', 'i', 'generally', 'applaud', 'films', 'which', 'attempt', 'to', 'break', 'the', 'mold', 'mess', 'with', 'your', 'head', 'and', 'such', 'lost', 'highway', 'memento', 'but', 'there', 'are', 'good', 'and', 'bad', 'ways', 'of', 'making', 'all', 'types', 'of', 'films', 'and', 'these', 'folks', 'just', 'didn', 't', 'snag', 'this', 'one', 'correctly', 'they', 'seem', 'to', 'have', 'taken', 'this', 'pretty', 'neat', 'concept', 'but', 'executed', 'it', 'terribly', 'so', 'what', 'are', 'the', 'problems', 'with', 'the', 'movie', 'well', 'its', 'main', 'problem', 'is', 'that', 'it', 's', 'simply', 'too', 'jumbled', 'it', 'starts', 'off', 'normal', 'but', 'then', 'downshifts', 'into', 'this', 'fantasy', 'world', 'in', 'which', 'you', 'as', 'an', 'audience', 'member', 'have', 'no', 'idea', 'what', 's', 'going', 'on', 'there', 'are', 'dreams', 'there', 'are', 'characters', 'coming', 'back', 'from', 'the', 'dead', 'there', 'are', 'others', 'who', 'look', 'like', 'the', 'dead', 'there', 'are', 'strange', 'apparitions', 'there', 'are', 'disappearances', 'there', 'are', 'a', 'looooot', 'of', 'chase', 'scenes', 'there', 'are', 'tons', 'of', 'weird', 'things', 'that', 'happen', 'and', 'most', 'of', 'it', 'is', 'simply', 'not', 'explained', 'now', 'i', 'personally', 'don', 't', 'mind', 'trying', 'to', 'unravel', 'a', 'film', 'every', 'now', 'and', 'then', 'but', 'when', 'all', 'it', 'does', 'is', 'give', 'me', 'the', 'same', 'clue', 'over', 'and', 'over', 'again', 'i', 'get', 'kind', 'of', 'fed', 'up', 'after', 'a', 'while', 'which', 'is', 'this', 'film', 's', 'biggest', 'problem', 'it', 's', 'obviously', 'got', 'this', 'big', 'secret', 'to', 'hide', 'but', 'it', 'seems', 'to', 'want', 'to', 'hide', 'it', 'completely', 'until', 'its', 'final', 'five', 'minutes', 'and', 'do', 'they', 'make', 'things', 'entertaining', 'thrilling', 'or', 'even', 'engaging', 'in', 'the', 'meantime', 'not', 'really', 'the', 'sad', 'part', 'is', 'that', 'the', 'arrow', 'and', 'i', 'both', 'dig', 'on', 'flicks', 'like', 'this', 'so', 'we', 'actually', 'figured', 'most', 'of', 'it', 'out', 'by', 'the', 'half', 'way', 'point', 'so', 'all', 'of', 'the', 'strangeness', 'after', 'that', 'did', 'start', 'to', 'make', 'a', 'little', 'bit', 'of', 'sense', 'but', 'it', 'still', 'didn', 't', 'the', 'make', 'the', 'film', 'all', 'that', 'more', 'entertaining', 'i', 'guess', 'the', 'bottom', 'line', 'with', 'movies', 'like', 'this', 'is', 'that', 'you', 'should', 'always', 'make', 'sure', 'that', 'the', 'audience', 'is', 'into', 'it', 'even', 'before', 'they', 'are', 'given', 'the', 'secret', 'password', 'to', 'enter', 'your', 'world', 'of', 'understanding', 'i', 'mean', 'showing', 'melissa', 'sagemiller', 'running', 'away', 'from', 'visions', 'for', 'about', '20', 'minutes', 'throughout', 'the', 'movie', 'is', 'just', 'plain', 'lazy', 'okay', 'we', 'get', 'it', 'there', 'are', 'people', 'chasing', 'her', 'and', 'we', 'don', 't', 'know', 'who', 'they', 'are', 'do', 'we', 'really', 'need', 'to', 'see', 'it', 'over', 'and', 'over', 'again', 'how', 'about', 'giving', 'us', 'different', 'scenes', 'offering', 'further', 'insight', 'into', 'all', 'of', 'the', 'strangeness', 'going', 'down', 'in', 'the', 'movie', 'apparently', 'the', 'studio', 'took', 'this', 'film', 'away', 'from', 'its', 'director', 'and', 'chopped', 'it', 'up', 'themselves', 'and', 'it', 'shows', 'there', 'might', 've', 'been', 'a', 'pretty', 'decent', 'teen', 'mind', 'fuck', 'movie', 'in', 'here', 'somewhere', 'but', 'i', 'guess', 'the', 'suits', 'decided', 'that', 'turning', 'it', 'into', 'a', 'music', 'video', 'with', 'little', 'edge', 'would', 'make', 'more', 'sense', 'the', 'actors', 'are', 'pretty', 'good', 'for', 'the', 'most', 'part', 'although', 'wes', 'bentley', 'just', 'seemed', 'to', 'be', 'playing', 'the', 'exact', 'same', 'character', 'that', 'he', 'did', 'in', 'american', 'beauty', 'only', 'in', 'a', 'new', 'neighborhood', 'but', 'my', 'biggest', 'kudos', 'go', 'out', 'to', 'sagemiller', 'who', 'holds', 'her', 'own', 'throughout', 'the', 'entire', 'film', 'and', 'actually', 'has', 'you', 'feeling', 'her', 'character', 's', 'unraveling', 'overall', 'the', 'film', 'doesn', 't', 'stick', 'because', 'it', 'doesn', 't', 'entertain', 'it', 's', 'confusing', 'it', 'rarely', 'excites', 'and', 'it', 'feels', 'pretty', 'redundant', 'for', 'most', 'of', 'its', 'runtime', 'despite', 'a', 'pretty', 'cool', 'ending', 'and', 'explanation', 'to', 'all', 'of', 'the', 'craziness', 'that', 'came', 'before', 'it', 'oh', 'and', 'by', 'the', 'way', 'this', 'is', 'not', 'a', 'horror', 'or', 'teen', 'slasher', 'flick', 'it', 's', 'just', 'packaged', 'to', 'look', 'that', 'way', 'because', 'someone', 'is', 'apparently', 'assuming', 'that', 'the', 'genre', 'is', 'still', 'hot', 'with', 'the', 'kids', 'it', 'also', 'wrapped', 'production', 'two', 'years', 'ago', 'and', 'has', 'been', 'sitting', 'on', 'the', 'shelves', 'ever', 'since', 'whatever', 'skip', 'it', 'where', 's', 'joblo', 'coming', 'from', 'a', 'nightmare', 'of', 'elm', 'street', '3', '7', '10', 'blair', 'witch', '2', '7', '10', 'the', 'crow', '9', '10', 'the', 'crow', 'salvation', '4', '10', 'lost', 'highway', '10', '10', 'memento', '10', '10', 'the', 'others', '9', '10', 'stir', 'of', 'echoes', '8', '10'])"
      ]
     },
     "execution_count": 6,
     "metadata": {},
     "output_type": "execute_result"
    }
   ],
   "source": [
    "from textblob import TextBlob\n",
    "\n",
    "words = TextBlob(documents[0]).words\n",
    "words"
   ]
  },
  {
   "cell_type": "markdown",
   "metadata": {},
   "source": [
    "# Prelim cleanup"
   ]
  },
  {
   "cell_type": "code",
   "execution_count": 7,
   "metadata": {
    "collapsed": false
   },
   "outputs": [
    {
     "ename": "NameError",
     "evalue": "name 'listOfLines' is not defined",
     "output_type": "error",
     "traceback": [
      "\u001b[1;31m---------------------------------------------------------------------------\u001b[0m",
      "\u001b[1;31mNameError\u001b[0m                                 Traceback (most recent call last)",
      "\u001b[1;32m<ipython-input-7-8d12ed705c89>\u001b[0m in \u001b[0;36m<module>\u001b[1;34m()\u001b[0m\n\u001b[0;32m      2\u001b[0m \u001b[1;32mimport\u001b[0m \u001b[0mstring\u001b[0m\u001b[1;33m\u001b[0m\u001b[0m\n\u001b[0;32m      3\u001b[0m \u001b[1;33m\u001b[0m\u001b[0m\n\u001b[1;32m----> 4\u001b[1;33m \u001b[0mstrX\u001b[0m \u001b[1;33m=\u001b[0m \u001b[0mlistOfLines\u001b[0m\u001b[1;33m[\u001b[0m\u001b[1;36m0\u001b[0m\u001b[1;33m]\u001b[0m\u001b[1;33m.\u001b[0m\u001b[0mreplace\u001b[0m\u001b[1;33m(\u001b[0m\u001b[0mstring\u001b[0m\u001b[1;33m.\u001b[0m\u001b[0mpunctuation\u001b[0m\u001b[1;33m,\u001b[0m \u001b[1;34m''\u001b[0m\u001b[1;33m)\u001b[0m\u001b[1;33m\u001b[0m\u001b[0m\n\u001b[0m\u001b[0;32m      5\u001b[0m \u001b[1;33m\u001b[0m\u001b[0m\n\u001b[0;32m      6\u001b[0m \u001b[1;32mfor\u001b[0m \u001b[0mi\u001b[0m \u001b[1;32min\u001b[0m \u001b[0mstring\u001b[0m\u001b[1;33m.\u001b[0m\u001b[0mpunctuation\u001b[0m\u001b[1;33m:\u001b[0m\u001b[1;33m\u001b[0m\u001b[0m\n",
      "\u001b[1;31mNameError\u001b[0m: name 'listOfLines' is not defined"
     ]
    }
   ],
   "source": [
    "# Here is an example of taking a single sentence (listOfLines[0]) and removing the punctuations\n",
    "import string\n",
    "\n",
    "strX = listOfLines[0].replace(string.punctuation, '')\n",
    "\n",
    "for i in string.punctuation:\n",
    "    strX = strX.replace(i, '')\n",
    "    \n",
    "strX"
   ]
  },
  {
   "cell_type": "code",
   "execution_count": 8,
   "metadata": {
    "collapsed": false
   },
   "outputs": [],
   "source": [
    "# Better way is to remove punctuation from whole document (except .) and then split by .\n",
    "strPunctuation = string.punctuation.replace('.', '')\n",
    "\n",
    "strPunctuation # this contains all punctuation except .\n",
    "document1 = documents[0]\n",
    "\n",
    "for punct in strPunctuation:\n",
    "    document1 = document1.replace(punct, '')\n",
    "    \n",
    "# Lets split the document\n",
    "document1 = document1.split('.')\n",
    "\n",
    "document1 = filter(lambda x: len(x)>1, document1) # get rid of any string that has length greater than 1\n",
    "document1 = map(lambda x: x.strip(), document1) # strip away all empty strings at the ends\n",
    "\n",
    "# section below \n",
    "# for i in range(3):\n",
    "#     print(next(document1))\n",
    "#     print('\\n')\n",
    "doc = next(document1)"
   ]
  },
  {
   "cell_type": "code",
   "execution_count": 9,
   "metadata": {
    "collapsed": false
   },
   "outputs": [
    {
     "data": {
      "text/plain": [
       "['plot',\n",
       " 'two',\n",
       " 'teen',\n",
       " 'couples',\n",
       " 'go',\n",
       " 'to',\n",
       " 'a',\n",
       " 'church',\n",
       " 'party',\n",
       " 'drink',\n",
       " 'and',\n",
       " 'then',\n",
       " 'drive']"
      ]
     },
     "execution_count": 9,
     "metadata": {},
     "output_type": "execute_result"
    }
   ],
   "source": [
    "\n",
    "docList = list(filter(lambda x: len(x)>0, doc.split(' ')))\n",
    "docList"
   ]
  },
  {
   "cell_type": "code",
   "execution_count": 12,
   "metadata": {
    "collapsed": false
   },
   "outputs": [
    {
     "data": {
      "text/plain": [
       "[('all', 'this', 'happened'),\n",
       " ('this', 'happened', 'more'),\n",
       " ('happened', 'more', 'or'),\n",
       " ('more', 'or', 'less')]"
      ]
     },
     "execution_count": 12,
     "metadata": {},
     "output_type": "execute_result"
    }
   ],
   "source": [
    "input_list = ['all', 'this', 'happened', 'more', 'or', 'less']\n",
    "\n",
    "def find_ngrams(input_list, n):\n",
    "    return zip(*[input_list[i:] for i in range(n)])\n",
    "\n",
    "list(find_ngrams(input_list, 3))"
   ]
  },
  {
   "cell_type": "code",
   "execution_count": 16,
   "metadata": {
    "collapsed": false
   },
   "outputs": [
    {
     "data": {
      "text/plain": [
       "defaultdict(list,\n",
       "            {('all', 'this'): ['happened'],\n",
       "             ('happened', 'more'): ['or'],\n",
       "             ('more', 'or'): ['less'],\n",
       "             ('this', 'happened'): ['more']})"
      ]
     },
     "execution_count": 16,
     "metadata": {},
     "output_type": "execute_result"
    }
   ],
   "source": [
    "d = defaultdict(list)\n",
    "\n",
    "for trigrams in find_ngrams(input_list,3):\n",
    "    word1, word2, word3 = trigrams\n",
    "    d[(word1, word2)].append(word3)\n",
    "    \n",
    "d"
   ]
  },
  {
   "cell_type": "markdown",
   "metadata": {
    "collapsed": true
   },
   "source": [
    "#### how about using some text"
   ]
  },
  {
   "cell_type": "code",
   "execution_count": 4,
   "metadata": {
    "collapsed": false
   },
   "outputs": [
    {
     "data": {
      "text/plain": [
       "'I want to recruit 100 000 new math and science teachers so we could reduce our deficit but we do it alone Parents have to fight for you and God bless you and God bless you and your families every single day as hard as I know how'"
      ]
     },
     "execution_count": 4,
     "metadata": {},
     "output_type": "execute_result"
    }
   ],
   "source": [
    "import numpy as np\n",
    "import random\n",
    "import string\n",
    "from collections import defaultdict\n",
    "\n",
    "# ======= (1) open a single file and upload its string into documents\n",
    "\n",
    "speech = []\n",
    "with open('obamaSpeech.txt', 'r') as f:\n",
    "    # sppech is not a list where each element is a new line\n",
    "    speech.extend(f.readlines())\n",
    "    \n",
    "document = ''.join(speech)\n",
    "\n",
    "# ======= (2) remove all punctuation except '.' which could be used to split lines later \n",
    "\n",
    "strPunctuation = string.punctuation.replace('.', '').replace(\"'\", '')\n",
    "\n",
    "# remove all punctuation\n",
    "for punct in strPunctuation:\n",
    "    document = document.replace(punct, ' ')\n",
    "\n",
    "# remove newLines, tabs and single quote\n",
    "for i in [\"\\t\",\"\\n\", \"'\"]:\n",
    "    document = document.replace(i, '')\n",
    "\n",
    "# ======= (3) Now split by '.'\n",
    "\n",
    "docList = document.split('.')\n",
    "docList = filter(lambda x: len(x)>1, docList) # get rid of any string that has length greater than 1\n",
    "docList = map(lambda x: x.strip(), docList) # strip away all empty strings at the ends\n",
    "docList = list(docList)\n",
    "\n",
    "# ======= (4) Start doing n-grams\n",
    "\n",
    "def find_ngrams(input_string, n):\n",
    "    # replace double space by single space\n",
    "    input_string = input_string.replace('  ', ' ')\n",
    "    input_list = input_string.split(' ')\n",
    "    return zip(*[input_list[i:] for i in range(n)])\n",
    "\n",
    "# ======= (5) Start doing n-grams\n",
    "\n",
    "def generateNGramDict(docList):\n",
    "    d = defaultdict(list)\n",
    "    for doc in docList:\n",
    "        trigrams = list(find_ngrams(doc,3))\n",
    "        for trigram in trigrams:\n",
    "            d[trigram[:2]].append(trigram[2])\n",
    "            \n",
    "    return d\n",
    "\n",
    "dtemp = generateNGramDict(docList)\n",
    "\n",
    "# ======= (6) Test sentence generator\n",
    "\n",
    "def generateText(triGramDict, numOfLoops, firstWord='getting', secondWord='the'):\n",
    "    newSpeech = [firstWord,secondWord]\n",
    "    counter = 0\n",
    "    \n",
    "    while counter < numOfLoops:\n",
    "        try:\n",
    "            firstWord, secondWord = secondWord, np.random.choice(triGramDict[(firstWord,secondWord)])\n",
    "            #print(newSpeech)\n",
    "            newSpeech.append(secondWord)\n",
    "        except:\n",
    "            break\n",
    "        \n",
    "    return ' '.join(newSpeech)\n",
    "\n",
    "generateText(dtemp, 10, 'I', 'want')\n",
    "#docList    \n",
    "#dtemp[('getting','the')]"
   ]
  },
  {
   "cell_type": "code",
   "execution_count": 5,
   "metadata": {
    "collapsed": false
   },
   "outputs": [
    {
     "data": {
      "text/plain": [
       "[('I', 'cannot', 'imagine'),\n",
       " ('cannot', 'imagine', 'not'),\n",
       " ('imagine', 'not', 'being'),\n",
       " ('not', 'being', 'fired'),\n",
       " ('being', 'fired', 'up'),\n",
       " ('fired', 'up', 'after'),\n",
       " ('up', 'after', 'listening'),\n",
       " ('after', 'listening', 'to'),\n",
       " ('listening', 'to', 'Bruce'),\n",
       " ('to', 'Bruce', 'Springsteen')]"
      ]
     },
     "execution_count": 5,
     "metadata": {},
     "output_type": "execute_result"
    }
   ],
   "source": [
    "trigrams = list(find_ngrams(docList[5],3))\n",
    "trigrams"
   ]
  },
  {
   "cell_type": "code",
   "execution_count": 7,
   "metadata": {
    "collapsed": false
   },
   "outputs": [
    {
     "data": {
      "text/plain": [
       "defaultdict(list,\n",
       "            {('I', 'cannot'): ['imagine'],\n",
       "             ('after', 'listening'): ['to'],\n",
       "             ('being', 'fired'): ['up'],\n",
       "             ('cannot', 'imagine'): ['not'],\n",
       "             ('fired', 'up'): ['after'],\n",
       "             ('imagine', 'not'): ['being'],\n",
       "             ('listening', 'to'): ['Bruce'],\n",
       "             ('not', 'being'): ['fired'],\n",
       "             ('to', 'Bruce'): ['Springsteen'],\n",
       "             ('up', 'after'): ['listening']})"
      ]
     },
     "execution_count": 7,
     "metadata": {},
     "output_type": "execute_result"
    }
   ],
   "source": [
    "d = defaultdict(list)\n",
    "\n",
    "for trigram in trigrams:\n",
    "    d[trigram[:2]].append(trigram[2])\n",
    "    \n",
    "d"
   ]
  },
  {
   "cell_type": "code",
   "execution_count": 219,
   "metadata": {
    "collapsed": false
   },
   "outputs": [
    {
     "name": "stdout",
     "output_type": "stream",
     "text": [
      "```````````````````````````````````````````````````````````````\n"
     ]
    },
    {
     "ename": "NameError",
     "evalue": "name 'k' is not defined",
     "output_type": "error",
     "traceback": [
      "\u001b[1;31m---------------------------------------------------------------------------\u001b[0m",
      "\u001b[1;31mNameError\u001b[0m                                 Traceback (most recent call last)",
      "\u001b[1;32m<ipython-input-219-4e52137c348c>\u001b[0m in \u001b[0;36m<module>\u001b[1;34m()\u001b[0m\n\u001b[0;32m     67\u001b[0m \u001b[1;31m#     for index in range(len(loops_list)):\u001b[0m\u001b[1;33m\u001b[0m\u001b[1;33m\u001b[0m\u001b[0m\n\u001b[0;32m     68\u001b[0m \u001b[1;31m#         print(\"{0}, {1}, {2}\".format(loops_list[index], timer_lc[index],timer_ar[index]))\u001b[0m\u001b[1;33m\u001b[0m\u001b[1;33m\u001b[0m\u001b[0m\n\u001b[1;32m---> 69\u001b[1;33m     \u001b[0mskipgram_list\u001b[0m\u001b[1;33m(\u001b[0m\u001b[0mtext\u001b[0m\u001b[1;33m,\u001b[0m \u001b[1;36m1\u001b[0m\u001b[1;33m,\u001b[0m \u001b[1;36m2\u001b[0m\u001b[1;33m)\u001b[0m\u001b[1;33m\u001b[0m\u001b[0m\n\u001b[0m",
      "\u001b[1;32m<ipython-input-219-4e52137c348c>\u001b[0m in \u001b[0;36mskipgram_list\u001b[1;34m(sent, k, n)\u001b[0m\n\u001b[0;32m     32\u001b[0m     \u001b[0mquery_part1\u001b[0m \u001b[1;33m=\u001b[0m \u001b[1;34m'result = ['\u001b[0m \u001b[1;33m+\u001b[0m \u001b[0mx\u001b[0m \u001b[1;33m+\u001b[0m \u001b[1;34m' for index in range(len(tokens))'\u001b[0m\u001b[1;33m\u001b[0m\u001b[0m\n\u001b[0;32m     33\u001b[0m     \u001b[0mquery_part2\u001b[0m \u001b[1;33m=\u001b[0m \u001b[1;34m' for j in range(1, k+2) if index + j + n < len(tokens)]'\u001b[0m\u001b[1;33m\u001b[0m\u001b[0m\n\u001b[1;32m---> 34\u001b[1;33m     \u001b[0mexec\u001b[0m\u001b[1;33m(\u001b[0m\u001b[0mquery_part1\u001b[0m \u001b[1;33m+\u001b[0m \u001b[0mquery_part2\u001b[0m\u001b[1;33m)\u001b[0m\u001b[1;33m\u001b[0m\u001b[0m\n\u001b[0m\u001b[0;32m     35\u001b[0m     \u001b[1;32mreturn\u001b[0m \u001b[0mresult\u001b[0m\u001b[1;33m\u001b[0m\u001b[0m\n\u001b[0;32m     36\u001b[0m \u001b[1;33m\u001b[0m\u001b[0m\n",
      "\u001b[1;32m<string>\u001b[0m in \u001b[0;36m<module>\u001b[1;34m()\u001b[0m\n",
      "\u001b[1;32m<string>\u001b[0m in \u001b[0;36m<listcomp>\u001b[1;34m(.0)\u001b[0m\n",
      "\u001b[1;31mNameError\u001b[0m: name 'k' is not defined"
     ]
    }
   ],
   "source": [
    "# code taken from: https://github.com/heaven00/skipgram/blob/master/skipgram.py\n",
    "\n",
    "import timeit\n",
    "\n",
    "\n",
    "# def skipgram_ndarray(sent, k=1, n=2):\n",
    "#     \"\"\"\n",
    "#     This is not exactly a vectorized version, because we are still\n",
    "#     using a for loop\n",
    "#     \"\"\"\n",
    "#     tokens = sent.split()\n",
    "#     if len(tokens) < k + 2:\n",
    "#         raise Exception(\"REQ: length of sentence > skip + 2\")\n",
    "#     matrix = np.zeros((len(tokens), k + 2), dtype=object)\n",
    "#     matrix[:, 0] = tokens\n",
    "#     matrix[:, 1] = tokens[1:] + ['']\n",
    "#     result = []\n",
    "#     for skip in range(1, k + 1):\n",
    "#         matrix[:, skip + 1] = tokens[skip + 1:] + [''] * (skip + 1)\n",
    "#     for index in range(1, k + 2):\n",
    "#         temp = matrix[:, 0] + ',' + matrix[:, index]\n",
    "#         map(result.append, temp.tolist())\n",
    "#     limit = (((k + 1) * (k + 2)) / 6) * ((3 * n) - (2 * k) - 6)\n",
    "#     return result[:limit]\n",
    "\n",
    "\n",
    "def skipgram_list(sent, k=1, n=2):\n",
    "    \"\"\"\n",
    "    Form skipgram features using list comprehensions\n",
    "    \"\"\"\n",
    "    tokens = sent.split()\n",
    "    tokens_n = ['''tokens[index + j + {0}]'''.format(index) for index in range(n - 1)]\n",
    "    x = '(tokens[index], ' + ', '.join(tokens_n) + ')'\n",
    "    query_part1 = 'result = [' + x + ' for index in range(len(tokens))'\n",
    "    query_part2 = ' for j in range(1, k+2) if index + j + n < len(tokens)]'\n",
    "    exec(query_part1 + query_part2)\n",
    "    return result\n",
    "\n",
    "if __name__ == \"__main__\":\n",
    "    text = \"\"\"Pretty awesome except for the mate choice data.\n",
    "            Yes, in all cultures studied men ranked appearance higher than\n",
    "            women did, and women ranked ambition higher than men did.\n",
    "            All cultures studied also contained within them the fact\n",
    "            that women do not have equal economic opportunities,\n",
    "            so of course a partner with earning power is important.\n",
    "            So culture is playing a part here, but all cultures studied\n",
    "            had the similar economic inequities so of course produced\n",
    "            this difference. *When women make their own money, their\n",
    "            desire for a good-looking partner, even a younger partner,\n",
    "            increases* and I'm willing to bet if we analyzed the raw\n",
    "            data we'd see less stark differences between men and women\n",
    "            in this realm in cultures with lesser degrees of economic\n",
    "            inequality.Another interesting point about that study\n",
    "            (I believe it was David Buss's surveys from the 1990s)\n",
    "            is that while men ranked beauty higher than women,\n",
    "            women ranked ambition higher than men -- all people,\n",
    "            male and female, in all cultures, ranked intelligence\n",
    "            and kindness and their top requirements in a mate\"\"\"\n",
    "    print(\"```````````````````````````````````````````````````````````````\")\n",
    "#     loops_list = []\n",
    "#     timer_lc = []\n",
    "#     timer_ar = []\n",
    "#     for index in range(3):\n",
    "#         loops = 100 * 10 ** index\n",
    "#         loops_list.append(loops)\n",
    "#         timer_lc.append(timeit.timeit(lambda: skipgram_list(text, 1, 2), number=loops))\n",
    "#         timer_ar.append(timeit.timeit(lambda: skipgram_ndarray(text, 1, 2),number=loops))\n",
    "#     print(\"Loops, List comprehensions, ndarray\\n\")\n",
    "#     for index in range(len(loops_list)):\n",
    "#         print(\"{0}, {1}, {2}\".format(loops_list[index], timer_lc[index],timer_ar[index]))\n",
    "    skipgram_list(text, 1, 2)"
   ]
  },
  {
   "cell_type": "code",
   "execution_count": 10,
   "metadata": {
    "collapsed": false
   },
   "outputs": [
    {
     "data": {
      "text/plain": [
       "[('or', 'not', 'to'),\n",
       " ('not', 'to', 'be'),\n",
       " ('to', 'be', 'that'),\n",
       " ('be', 'that', 'is'),\n",
       " ('that', 'is', 'the'),\n",
       " ('is', 'the', 'question')]"
      ]
     },
     "execution_count": 10,
     "metadata": {},
     "output_type": "execute_result"
    }
   ],
   "source": [
    "str = 'To be or not to be that is the question'\n",
    "\n",
    "def find_ngrams_with_skip(input_string, skip, n):\n",
    "    \n",
    "\n",
    "list(find_ngrams_with_skip(str, 1, 3))"
   ]
  },
  {
   "cell_type": "code",
   "execution_count": null,
   "metadata": {
    "collapsed": true
   },
   "outputs": [],
   "source": [
    "st"
   ]
  }
 ],
 "metadata": {
  "kernelspec": {
   "display_name": "Python 3",
   "language": "python",
   "name": "python3"
  },
  "language_info": {
   "codemirror_mode": {
    "name": "ipython",
    "version": 3
   },
   "file_extension": ".py",
   "mimetype": "text/x-python",
   "name": "python",
   "nbconvert_exporter": "python",
   "pygments_lexer": "ipython3",
   "version": "3.4.3"
  }
 },
 "nbformat": 4,
 "nbformat_minor": 0
}
