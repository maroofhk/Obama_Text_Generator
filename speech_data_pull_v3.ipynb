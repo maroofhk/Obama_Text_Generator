{
 "cells": [
  {
   "cell_type": "code",
   "execution_count": 1,
   "metadata": {
    "collapsed": true
   },
   "outputs": [],
   "source": [
    "import pandas as pd\n",
    "import numpy as np\n",
    "import nltk\n",
    "import matplotlib.pyplot as plt\n",
    "\n",
    "from bs4 import BeautifulSoup\n",
    "import requests\n",
    "import string\n",
    "\n",
    "%matplotlib inline"
   ]
  },
  {
   "cell_type": "code",
   "execution_count": 2,
   "metadata": {
    "collapsed": true
   },
   "outputs": [],
   "source": [
    "from nltk.tokenize import sent_tokenize\n",
    "from nltk.tokenize import TreebankWordTokenizer"
   ]
  },
  {
   "cell_type": "markdown",
   "metadata": {},
   "source": [
    "# trying to pull all the campaign speeches over 3 election cycles"
   ]
  },
  {
   "cell_type": "code",
   "execution_count": 3,
   "metadata": {
    "collapsed": false
   },
   "outputs": [
    {
     "name": "stderr",
     "output_type": "stream",
     "text": [
      "C:\\Python34\\Lib\\site-packages\\bs4\\__init__.py:166: UserWarning: No parser was explicitly specified, so I'm using the best available HTML parser for this system (\"html.parser\"). This usually isn't a problem, but if you run this code on another system, or in a different virtual environment, it may use a different parser and behave differently.\n",
      "\n",
      "To get rid of this warning, change this:\n",
      "\n",
      " BeautifulSoup([your markup])\n",
      "\n",
      "to this:\n",
      "\n",
      " BeautifulSoup([your markup], \"html.parser\")\n",
      "\n",
      "  markup_type=markup_type))\n"
     ]
    }
   ],
   "source": [
    "baseUrl = 'http://www.presidency.ucsb.edu/'\n",
    "electionYears = [2008,2012,2016]\n",
    "\n",
    "speech_links = []\n",
    "\n",
    "for year in electionYears:\n",
    "    url = baseUrl + str(year) + '_election.php'\n",
    "    response = requests.get(url)\n",
    "    soup = BeautifulSoup(response.text)\n",
    "    \n",
    "    links = soup.findAll('a', href=True)\n",
    "    \n",
    "    for link in links:\n",
    "        if 'campaign' in link.text:\n",
    "            speech_links.append(link['href'])"
   ]
  },
  {
   "cell_type": "code",
   "execution_count": 4,
   "metadata": {
    "collapsed": false
   },
   "outputs": [
    {
     "data": {
      "text/plain": [
       "['2008_election_speeches.php?candidate=44&campaign=2008OBAMA&doctype=5000',\n",
       " '2008_election_speeches.php?candidate=70&campaign=2008CLINTON&doctype=5000',\n",
       " '2008_election_speeches.php?candidate=71&campaign=2008EDWARDS&doctype=5000']"
      ]
     },
     "execution_count": 4,
     "metadata": {},
     "output_type": "execute_result"
    }
   ],
   "source": [
    "speech_links[:3]"
   ]
  },
  {
   "cell_type": "markdown",
   "metadata": {},
   "source": [
    "Putting all the elections links to a file"
   ]
  },
  {
   "cell_type": "code",
   "execution_count": 5,
   "metadata": {
    "collapsed": true
   },
   "outputs": [],
   "source": [
    "with open('data/election_links.txt', 'a') as f:\n",
    "    for link in speech_links:\n",
    "        f.write(link)\n",
    "        f.write(\"\\n\")"
   ]
  },
  {
   "cell_type": "markdown",
   "metadata": {},
   "source": [
    "# testing list of campaign speeches"
   ]
  },
  {
   "cell_type": "code",
   "execution_count": 5,
   "metadata": {
    "collapsed": false
   },
   "outputs": [
    {
     "data": {
      "text/plain": [
       "('2008', '44')"
      ]
     },
     "execution_count": 5,
     "metadata": {},
     "output_type": "execute_result"
    }
   ],
   "source": [
    "# This will get the year and candidate number\n",
    "# this will be used when saving speech texts\n",
    "str = speech_links[0]\n",
    "year = str[:4]\n",
    "candidate_index = str.rindex('candidate=')\n",
    "candidate = str[candidate_index+10:candidate_index+12]\n",
    "year, candidate"
   ]
  },
  {
   "cell_type": "markdown",
   "metadata": {},
   "source": [
    "# Here are the list of speeches that are from president obama\n",
    "- [file=0] http://www.presidency.ucsb.edu/2008_election_speeches.php?candidate=44&campaign=2008OBAMA&doctype=5000\n",
    "- [file=11] http://www.presidency.ucsb.edu/2012_election_speeches.php?candidate=44&doctype=1157\n",
    "- [file=12] http://www.presidency.ucsb.edu/2012_election_speeches.php?candidate=44&doctype=1150"
   ]
  },
  {
   "cell_type": "code",
   "execution_count": 6,
   "metadata": {
    "collapsed": false
   },
   "outputs": [
    {
     "name": "stderr",
     "output_type": "stream",
     "text": [
      "C:\\Python34\\Lib\\site-packages\\bs4\\__init__.py:166: UserWarning: No parser was explicitly specified, so I'm using the best available HTML parser for this system (\"html.parser\"). This usually isn't a problem, but if you run this code on another system, or in a different virtual environment, it may use a different parser and behave differently.\n",
      "\n",
      "To get rid of this warning, change this:\n",
      "\n",
      " BeautifulSoup([your markup])\n",
      "\n",
      "to this:\n",
      "\n",
      " BeautifulSoup([your markup], \"html.parser\")\n",
      "\n",
      "  markup_type=markup_type))\n"
     ]
    }
   ],
   "source": [
    "baseUrl = 'http://www.presidency.ucsb.edu/'\n",
    "urlSpeeches = baseUrl + speech_links[12]\n",
    "\n",
    "response = requests.get(urlSpeeches)\n",
    "soup = BeautifulSoup(response.text)\n",
    "    \n",
    "links = soup.findAll('td', attrs={'class' : 'listdate'})\n",
    "# #tables = soup.findAll('table')"
   ]
  },
  {
   "cell_type": "code",
   "execution_count": 7,
   "metadata": {
    "collapsed": false
   },
   "outputs": [
    {
     "data": {
      "text/plain": [
       "'2012_election_speeches.php?candidate=44&doctype=1157'"
      ]
     },
     "execution_count": 7,
     "metadata": {},
     "output_type": "execute_result"
    }
   ],
   "source": [
    "speech_links[11]"
   ]
  },
  {
   "cell_type": "code",
   "execution_count": 44,
   "metadata": {
    "collapsed": true
   },
   "outputs": [
    {
     "data": {
      "text/plain": [
       "['HTML_FORMATTERS',\n",
       " 'XML_FORMATTERS',\n",
       " '__bool__',\n",
       " '__call__',\n",
       " '__class__',\n",
       " '__contains__',\n",
       " '__copy__',\n",
       " '__delattr__',\n",
       " '__delitem__',\n",
       " '__dict__',\n",
       " '__dir__',\n",
       " '__doc__',\n",
       " '__eq__',\n",
       " '__format__',\n",
       " '__ge__',\n",
       " '__getattr__',\n",
       " '__getattribute__',\n",
       " '__getitem__',\n",
       " '__gt__',\n",
       " '__hash__',\n",
       " '__init__',\n",
       " '__iter__',\n",
       " '__le__',\n",
       " '__len__',\n",
       " '__lt__',\n",
       " '__module__',\n",
       " '__ne__',\n",
       " '__new__',\n",
       " '__reduce__',\n",
       " '__reduce_ex__',\n",
       " '__repr__',\n",
       " '__setattr__',\n",
       " '__setitem__',\n",
       " '__sizeof__',\n",
       " '__str__',\n",
       " '__subclasshook__',\n",
       " '__unicode__',\n",
       " '__weakref__',\n",
       " '_all_strings',\n",
       " '_attr_value_as_string',\n",
       " '_attribute_checker',\n",
       " '_find_all',\n",
       " '_find_one',\n",
       " '_formatter_for_name',\n",
       " '_is_xml',\n",
       " '_lastRecursiveChild',\n",
       " '_last_descendant',\n",
       " '_select_debug',\n",
       " '_selector_combinators',\n",
       " '_should_pretty_print',\n",
       " '_tag_name_matches_and',\n",
       " 'append',\n",
       " 'attribselect_re',\n",
       " 'attrs',\n",
       " 'can_be_empty_element',\n",
       " 'childGenerator',\n",
       " 'children',\n",
       " 'clear',\n",
       " 'contents',\n",
       " 'decode',\n",
       " 'decode_contents',\n",
       " 'decompose',\n",
       " 'descendants',\n",
       " 'encode',\n",
       " 'encode_contents',\n",
       " 'extract',\n",
       " 'fetchNextSiblings',\n",
       " 'fetchParents',\n",
       " 'fetchPrevious',\n",
       " 'fetchPreviousSiblings',\n",
       " 'find',\n",
       " 'findAll',\n",
       " 'findAllNext',\n",
       " 'findAllPrevious',\n",
       " 'findChild',\n",
       " 'findChildren',\n",
       " 'findNext',\n",
       " 'findNextSibling',\n",
       " 'findNextSiblings',\n",
       " 'findParent',\n",
       " 'findParents',\n",
       " 'findPrevious',\n",
       " 'findPreviousSibling',\n",
       " 'findPreviousSiblings',\n",
       " 'find_all',\n",
       " 'find_all_next',\n",
       " 'find_all_previous',\n",
       " 'find_next',\n",
       " 'find_next_sibling',\n",
       " 'find_next_siblings',\n",
       " 'find_parent',\n",
       " 'find_parents',\n",
       " 'find_previous',\n",
       " 'find_previous_sibling',\n",
       " 'find_previous_siblings',\n",
       " 'format_string',\n",
       " 'get',\n",
       " 'getText',\n",
       " 'get_text',\n",
       " 'has_attr',\n",
       " 'has_key',\n",
       " 'hidden',\n",
       " 'index',\n",
       " 'insert',\n",
       " 'insert_after',\n",
       " 'insert_before',\n",
       " 'isSelfClosing',\n",
       " 'is_empty_element',\n",
       " 'name',\n",
       " 'namespace',\n",
       " 'next',\n",
       " 'nextGenerator',\n",
       " 'nextSibling',\n",
       " 'nextSiblingGenerator',\n",
       " 'next_element',\n",
       " 'next_elements',\n",
       " 'next_sibling',\n",
       " 'next_siblings',\n",
       " 'parent',\n",
       " 'parentGenerator',\n",
       " 'parents',\n",
       " 'parserClass',\n",
       " 'parser_class',\n",
       " 'prefix',\n",
       " 'prettify',\n",
       " 'previous',\n",
       " 'previousGenerator',\n",
       " 'previousSibling',\n",
       " 'previousSiblingGenerator',\n",
       " 'previous_element',\n",
       " 'previous_elements',\n",
       " 'previous_sibling',\n",
       " 'previous_siblings',\n",
       " 'recursiveChildGenerator',\n",
       " 'renderContents',\n",
       " 'replaceWith',\n",
       " 'replaceWithChildren',\n",
       " 'replace_with',\n",
       " 'replace_with_children',\n",
       " 'select',\n",
       " 'select_one',\n",
       " 'setup',\n",
       " 'string',\n",
       " 'strings',\n",
       " 'stripped_strings',\n",
       " 'tag_name_re',\n",
       " 'text',\n",
       " 'unwrap',\n",
       " 'wrap']"
      ]
     },
     "execution_count": 44,
     "metadata": {},
     "output_type": "execute_result"
    }
   ],
   "source": [
    "dir(links[0])"
   ]
  },
  {
   "cell_type": "code",
   "execution_count": 8,
   "metadata": {
    "collapsed": false
   },
   "outputs": [
    {
     "data": {
      "text/plain": [
       "('Barack Obama', '2012')"
      ]
     },
     "execution_count": 8,
     "metadata": {},
     "output_type": "execute_result"
    }
   ],
   "source": [
    "speaker = links[0].text\n",
    "year = links[1].text.split(',')[1].strip()\n",
    "speaker, year"
   ]
  },
  {
   "cell_type": "code",
   "execution_count": 11,
   "metadata": {
    "collapsed": false
   },
   "outputs": [
    {
     "data": {
      "text/plain": [
       "<td bgcolor=\"#f7fafd\" class=\"listdate\" valign=\"top\"><a href=\"../ws/index.php?pid=101323\">Remarks at a Campaign Rally in Sandusky, Ohio</a></td>"
      ]
     },
     "execution_count": 11,
     "metadata": {},
     "output_type": "execute_result"
    }
   ],
   "source": [
    "links[5]"
   ]
  },
  {
   "cell_type": "code",
   "execution_count": 12,
   "metadata": {
    "collapsed": false
   },
   "outputs": [
    {
     "data": {
      "text/plain": [
       "False"
      ]
     },
     "execution_count": 12,
     "metadata": {},
     "output_type": "execute_result"
    }
   ],
   "source": [
    "linkval = links[5].find('a')\n",
    "linkval == None"
   ]
  },
  {
   "cell_type": "code",
   "execution_count": 13,
   "metadata": {
    "collapsed": false
   },
   "outputs": [],
   "source": [
    "actual_speech_links = []\n",
    "for link in links:\n",
    "    a_href = link.find('a')\n",
    "    if a_href != None:\n",
    "        actual_speech_links.append(a_href['href'])"
   ]
  },
  {
   "cell_type": "code",
   "execution_count": 14,
   "metadata": {
    "collapsed": false
   },
   "outputs": [
    {
     "data": {
      "text/plain": [
       "['../ws/index.php?pid=101322',\n",
       " '../ws/index.php?pid=101323',\n",
       " '../ws/index.php?pid=101324']"
      ]
     },
     "execution_count": 14,
     "metadata": {},
     "output_type": "execute_result"
    }
   ],
   "source": [
    "# links to all of the speeches associated to the candidate in question\n",
    "actual_speech_links[:3]"
   ]
  },
  {
   "cell_type": "markdown",
   "metadata": {},
   "source": [
    "# Get one speech"
   ]
  },
  {
   "cell_type": "code",
   "execution_count": 15,
   "metadata": {
    "collapsed": false
   },
   "outputs": [
    {
     "data": {
      "text/plain": [
       "'http://www.presidency.ucsb.edu/ws/index.php?pid=101322'"
      ]
     },
     "execution_count": 15,
     "metadata": {},
     "output_type": "execute_result"
    }
   ],
   "source": [
    "single_url_speech = baseUrl + actual_speech_links[0][3:]\n",
    "single_url_speech"
   ]
  },
  {
   "cell_type": "code",
   "execution_count": 16,
   "metadata": {
    "collapsed": false,
    "scrolled": true
   },
   "outputs": [
    {
     "name": "stderr",
     "output_type": "stream",
     "text": [
      "C:\\Python34\\Lib\\site-packages\\bs4\\__init__.py:166: UserWarning: No parser was explicitly specified, so I'm using the best available HTML parser for this system (\"html.parser\"). This usually isn't a problem, but if you run this code on another system, or in a different virtual environment, it may use a different parser and behave differently.\n",
      "\n",
      "To get rid of this warning, change this:\n",
      "\n",
      " BeautifulSoup([your markup])\n",
      "\n",
      "to this:\n",
      "\n",
      " BeautifulSoup([your markup], \"html.parser\")\n",
      "\n",
      "  markup_type=markup_type))\n"
     ]
    },
    {
     "data": {
      "text/plain": [
       "\"The President. Hello, Parma! Hello, Ohio! Well, it is good to be in Parma. Everybody, have a seat—who can sit down. [Laughter] It is good to be here. And this—now, this is the right time for a rally. Now things have cooled off a little bit. And I had a beer in Amherst, at Ziggy's, so I'm feeling good, feeling steady. I want to first of all—I want everybody to give Wendy a big round of applause for the introduction. We've got some outstanding Ohioans in the house. First of all, the mayor of Parma, Tim DeGeeter is here. Stand up, Tim, so everybody can see you. There you go. I don't know who the guy holding the mayor is, but—[laughter]—nah. Audience member. That's Jack! The President. Oh, that's Jack! [Laughter] Got it. You guys have some of the best Members of Congress from this area. And nobody is fighting harder than your outstanding Senator, Sherrod Brown. And his outstanding wife Connie, who I love. We love Connie. Although, Connie, I did tell Sherrod he can take his tie off. I mean, it's 8 o'clock; we're in a park; it's hot. [Laughter] But anyway, you keep on working on him. Two outstanding Congresswomen, who are looking after Ohio's middle class every single day—Betty Sutton is here, and Marcy Kaptur is here. And I could not be prouder to have, as one of my campaign cochairs, your former Governor: The outstanding Ted Strickland is here. Audience member. And an outstanding President! The President. Oh, and an outstanding President, okay. [Laughter] Now, I just want to first of all say, thank you, guys, for taking your time to come out. I hope everybody had a wonderful Fourth of July. We had a little barbecue in my backyard. [Laughter] It was little, had a few fireworks. Some of you know that Malia turned 14 yesterday. And she is just an incredible young lady, just like Sasha is. Now, she used to be young enough where I could convince her that all these fireworks were for her birthday. But she doesn't believe me anymore. [Laughter] And Michelle sends her love. Malia was having a sleepover with some of her friends, and Michelle thought, you can't just have a house full of girls and no parental supervision. [Laughter] So just letting you know. But she says hi; the girls say hi; and Bo say hi. Now, you may not have noticed, but we're in the middle of campaign season here. And this will be—one way or another, this will be my last campaign, which gets me to thinking about my first campaign. And I was a lawyer, and I was teaching law, and this seat—the State senate seat came up. And I told Michelle, some people had talked to me about running for office, what did she think. And she said, well, that's a dumb idea. [Laughter] But after I explained to her why I thought it might make sense for me to run, she joined in. And we didn't have a budget; we didn't have TV ads. We printed a bunch of stuff at Kinko's—[laughter]—and we had a few friends who volunteered. And we started knocking on doors, and I'd go in front of the grocery store, and I'd shake hands. And we would march in parades. In fact, the Fourth of July parade in Hyde Park, back in Chicago, they had a tradition where they made folks who were in office or running for office dress up. And somebody had an outfit for me. It was sort of like a minuteman outfit with, like, a hat and sort of the cutoff pants. And my legs are kind of skinny, so I didn't look very good in them. [Laughter] [At this point, an audience member whistled.] The President. And then I won that race, and so I served in the State senate. And then I got the idea of running for the United States Senate after serving 8 years in the State senate. And I decided to go to Michelle and ask her what she thought. And she said, well, that's a dumb idea. [Laughter] But because I had had a chance as a State senator to travel the whole State of Illinois, which is a lot like Ohio—it's a mix of big cities and rural communities and folks from every walk of life—and I started just traveling the State. And I'd go to State fairs, and I'd—we'd go to county fairs, and we'd stop in little towns and meet folks and go to VFW halls. And what I realized during that Senate race, and what I realized when I first ran for the State senate, was the reason I got into politics was because, in this country, there is this core American idea that we celebrated yesterday. And that is if you work hard, if you take responsibility for yourself and your family, and you don't get discouraged when you hit some setbacks, you can make it if you try. The basic American bargain that says, it doesn't matter what you look like, where you come from, where you worship, the idea is that you don't have to be born into fame or fortune. If you're willing to apply yourself and work hard, you can make it. You can follow your dreams. And the reason I got into that first race way back when and the reason I ran for the Senate and, ultimately, the reason I ran for President was because that had been available for my family. My grandparents participated in World War II. My grandfather fought in Patton's Army, and my grandmother worked on a bomber assembly line. But when my grandfather came back, he was able to study on the GI bill, and they were able to buy their first home with some help from the FHA. America gave them that opportunity, didn't give them a handout, but gave them that chance. And when my mom, a single mom, was raising two kids and trying to get her education, there were grants and loans available; and she could instill a love of learning in me and my sister, and we had a chance to get a great education. And you look at Michelle's family: Her dad was what was called a stationary engineer at the water filtration plant in Chicago, a blue-collar worker. Even though he had MS, he'd have to wake up an hour earlier than everybody else to get dressed and get to the job, but he never missed a day of work. And Michelle's mom, she stayed at home raising the kids and then later became a secretary. They never had a lot, but they had a chance to give their kids this great education. And so my whole life, and Michelle's whole life, was an example of this American Dream: this idea that if you work hard, you can find a job that pays a living wage and you can afford a home, you won't go bankrupt when you get sick, you can retire with some dignity and respect, you can take a vacation. It may not be fancy; you might not be going to some fancy resort, but you can go with your kids and enjoy each other's company and see the amazing sights of this country. And the problem was that you could feel, over the last decade, how that dream was slipping away for too many people. They were working harder and harder, but it seemed like wages weren't going up, incomes weren't going up, opportunities weren't increasing, the cost of health care was going up, the cost of college was going up, gas prices going up, groceries going up. So that basic bargain felt like it was slipping away from too many people. That's what got me into politics: That's why I ran for the State senate; that's why I entered my first political race; that's why I'm running my last political race, because I want to make sure that the next generation, not just my kids, but everybody, has that same chance, that we get that bargain back for America's middle class. That's what Sherrod is fighting for and Marcy is fighting for and Betty is fighting for and I am fighting for. That's what you believe in. That's why I'm running for President of the United States of America. Audience members. Four more years! Four more years! Four more years! The President. Now, this—these past 3½ years have made it tough on everybody. We saw the middle class struggling and folks who were trying to get into the middle class. I want to say, by the way, when I talk about middle class, I'm also talking about poor folks who are doing the right thing and trying to get into the middle class. And middle class is also an attitude. It's not just about income. It's about knowing what's important and not measuring your success just based on your bank account. But it's about your values and being responsible and looking after each other and giving back. Audience member. Giving back. The President. Giving back. And it was tough even before the crisis hit. And then this crisis hit, and the auto industry almost went under, and people lost their jobs, and people lost their homes. And we've been working 24/7, 365 days a year, for the last 3½ years to try to right the ship and recover. And we've seen progress. Audience member. It's working. The President. We've seen progress. When some were saying, let's let Detroit go bankrupt, I said let's bet on the American worker. And now that Chrysler plant is churning out some of the best cars in the world. And GM is back on top. And Ford is on the move. We've seen manufacturing start to come back to Ohio. We've seen the unemployment rate drop. So we've made progress. But we all know we've got so much more work to do. There are too many folks still out of work, homes still underwater. Too many kids are still trying to figure out how to pay for their college education. But you know what: These challenges had been building up over decades, and we knew we weren't going to turn it around overnight. What we wanted to do was make sure that we started moving in the right direction: moving forward, not moving backwards. And we've been able to do that. We've been moving forwards. And frankly, we've been moving forwards without a lot of help from the other side. We've been kind of yanking them. They've been on our ankles and pulling us back—[laughter]—but we've been moving forward. But the truth is, there is so much more we could be doing. And the reason I'm so glad you're here today is because the only way we are going to keep moving forward is with you. Now, I know you probably are already sick of this election with all the commercials and all the nastiness that's out there and the foolishness and the misinformation and all the political reporting about polls and who's up and who's down. But look, I want you to understand: Nothing could be bigger right now than the choice you're about to make; the choice you're about to make. Because it's more than just being about two candidates or two political parties; this is about two fundamentally different visions of how we move forward. Mr. Romney, his allies in Congress, they've got a particular view. They believe that if we cut taxes, for especially the wealthiest Americans, about $5 trillion on top of the Bush tax cuts, paid for by cutting education and cutting—making Medicare a voucher program and cutting programs for our kids, that somehow if we do that and we eliminate regulations that we've put in place—thanks to the work of these great members of Congress, so that we don't have taxpayer bailouts of Wall Street banks anymore—that if we roll those back, that somehow all this is going to benefit you. That first, it will benefit wealthy investors, and then things will rain down on you and benefit you in some fashion. That's the theory. Now, let me just say, this is a coherent theory. You can see it on their web sites. They don't make a secret about what they're planning to do. The only problem is we tried it. We tried it for about 10 years right before I was elected as President of the United States, and it didn't work. It didn't make the middle class stronger. Job growth was sluggish. Your wages and your incomes did not go up. It didn't grow our economy the way it needed to. And it culminated in the worst financial crisis we've had since the Great Depression. So their theory was tried, but it's a theory. I've got a different theory. I think they're wrong. As Wendy said, I don't think we grow our economy from the top down. I think we grow the economy from the middle class out. I think, we grow the economy by making sure everybody has got a fair shot and everybody is doing their fair share and everybody is playing by the same set of rules. And so when I look at how do we move forward, I say, we're making progress in manufacturing. Let's make more progress. Let's stop giving tax breaks to companies that are shipping jobs overseas. Let's give them to companies that are investing right here in the United States of America. When I think about moving forward, I say, let's invest in advanced manufacturing in this 21st-century economy for us to make sure that we're at the forefront of advanced battery manufacturing so the next generation of cars are built here in America; investing in clean energy to make sure that solar panels and wind turbines are built here in the United States of America. Those are smart investments. That's how we move forward. When I think about moving forward, I think about how do we make sure that American young people are the best educated in the world. So I want to hire new teachers, especially in math and science, and I want to train them better and pay them better. And I want to give 2 million more people the opportunity to go to a community college and train for the jobs that exist right now. And I want to make college more affordable for young people and bring tuition down. That's how we move forward. That's my vision for the future. And yes, I believe that we should have a health care system that works for middle class families. And I am—couldn't be prouder of the work that we have done in getting this health care law passed. And there is so much misinformation out there, so I just want to clear up a couple of things. If you've got health insurance right now, here's what this bill means: It means that insurance companies can't drop you for no reason or when you need it most; it means that your kids can stay on your health insurance plan until they're 26 and have really gotten a job that provides them benefits; it means that they can't impose lifetime limits—insurance companies can't impose lifetime limits so that when you really need it, suddenly they say, we don't have any more insurance for you. It's a patient's bill of rights for you if you have insurance, and if you don't have health insurance, then it gives you a chance to buy into a pool so that you get the same deal as folks who are working at big companies do. And if you're a senior on Medicare, it means your prescription drug costs are going to be lower and we're going to close that donut hole that has hurt a lot of seniors. Now, I think that was the right thing to do. That's part of moving forward. We need to have an American energy policy. We're producing more oil and gas than we have in a long time, and we're importing less oil from overseas than we have in the past. But we can keep on doing more, not only increasing production of traditional fuels, but in developing and inventing new fuels because we need to free ourselves from our dependence on foreign oil. And by the way, we can put people back to work in the process. That's moving forward. I want to rebuild America. I promised, I'd end the war in Iraq. I ended the war in Iraq. We're transitioning out of Afghanistan. We've taken on Al Qaida, and we killed bin Laden. And now I want to take half the money that we're no longer spending on war and use it to drive down our deficits. And I want to take the other half to start doing some nation-building here in Ohio. Do some nation-building here at home. Put people back to work—rebuilding our roads and our bridges and our schools, laying broadband lines and high-speed rail. That's how we build America. That's my idea of moving forward. So I've got a different vision, and nowhere is that vision, by the way, bigger than when it comes to how do we deal with our debt and our deficit. Biggest contributors to our debt and our deficit, in addition to this recession, were two tax cuts that weren't paid for and two wars run on a credit card. And Mr. Romney's proposal to deal with this is another $5 trillion of tax cuts that aren't paid for; or if they're paid for, on the backs of you. That's not a plan to deal with our deficits. So what I've said is, look, we're going to get rid of programs that don't work. We don't want to waste money. We can't afford it; we don't have enough. And by the way, I'm not somebody who believes that every government program works. I don't think government can solve every problem. I don't think we can always help folks who don't want to help themselves. Now, I don't care how much money we spend on schools if parents aren't parenting. So government can't do everything, but there are some things we have to do to grow the economy. So we've got to invest in education. We've got to invest in basic science and research. We've got to invest in infrastructure. We've got to make sure that Medicare and Social Security are there for our seniors. So in addition to wise spending cuts, there's nothing wrong with asking the wealthy to pay a little more in taxes. Now, let me just say this: I don't need a tax cut; Mr. Romney sure doesn't need a tax cut. I mean, I don't want a tax cut if it means, suddenly, students are having a tougher time affording going to college. I don't want a tax cut if it means seniors have to pay something more for Medicare. And you know what, a lot of successful people agree with that. And the reason they do is because they remember what it was like when they weren't successful and somebody gave them a helping hand. And so I think a lot of people want to do the right thing. But we can't have a culture that just encourages selfishness and looking out for yourself and not looking out for anybody else, just looking out for you and not the next generation. So there are two fundamentally different visions about how we move the country forward. And the great thing about our democracy is you get to be the tiebreaker. It's up to you. It's up to you to decide what vision makes more sense. Mr. Romney's vision, the vision of his Republican allies and some of the special interests in Washington, we've tried that vision, and it didn't work. My vision, the last time we tried it was when Bill Clinton was President. And we created 23 million jobs, we had a budget surplus, and we created a whole lot of millionaires to boot. Everybody did well, because we're in it together. And ultimately, that's what it comes down to: Do you believe that we're on our own, all of us, or do you believe we're in it together? See, when I think about what's made America great, it's been our rugged individualism and our willingness to take risks and people going out there and starting a small business that becomes a medium-sized business, becomes a big business, they start hiring. All those things have contributed. But what has also made us great is there are some things we've understood we do together. We build the Hoover Dam and the Golden Gate Bridge, together. We take care of our veterans, together. We send them to school on the GI bill, together. We invest in basic research that creates the Internet, together. We send a man to the moon, together. We build the Interstate Highway System, together. We do these things not because it helps any one of us individually, but because it gives opportunity for all of us to succeed. That's what's at stake in this election. And you are the tiebreaker. Now, over the next 4 months, you will see a lot of stuff on TV. The other side is spending more money than we've ever seen before. I mean, you've got billionaires just writing $10 million checks. They just—they're spending money like nobody's business. And all of them have the same message, all these ads, which basically is: The economy is bad, and it's Obama's fault. [Laughter] I mean, they've got variations on this theme, but it's the same theme every time. Sometimes they say, it's Obama's fault because he thinks government is all the answer. Sometimes it's because, well, Obama, he doesn't have private sector experience making a lot of money like the other guy. Some of it is, well, he just thinks everything is fine or he is in over his head. But it's all the same theme. And I think a lot of people are looking at this. They're saying, we don't know how this is going to turn out because we've never seen a sitting President outspent like this, with all this money and all these negative attacks. And maybe it'll work. Audience members. No! The President. But it's a plan to run a campaign. It's not a plan to put people back to work. Their plan is not a plan to grow the middle class. And when I think back to my first campaign, and I think back to that first senate campaign that I ran, what I always remember, what Michelle and I learned, was folks can spend a whole lot of money and they can run a whole bunch of negative attacks. But when the American people decide what's right; when ordinary people are reminded of what's best in us; when we remember what our values are and we're willing to fight for them; when we're willing to say, you know what, this is not just about me, but this is about my kids and my grandkids, and so I'm going to work as hard as I can and I'm going to talk to my friends and I'm going to talk to my neighbors, I'm going to talk to my coworkers and I know it's going to be frustrating and I know it's going to be hard sometimes and there are going to be setbacks, but I'm going to stay with it, and enough people start having that feeling, nothing can stop them. Nothing can stop you. I don't care how much the other side spends. You cannot be stopped once you have decided what is right and what is true. In the last election, I told people, I'm not a perfect man and I certainly wasn't going to be a perfect President. But I said, I'd always tell you what I thought and I'd always tell you where I stood and I'd spend every single day fighting as hard as I knew how for you to try to make sure that every single one of you had the same chance as my family had because I saw myself in you. I saw my hopes and dreams in you. And when I see your kids, I see my kids. And when I see your grandparents, I see my grandparents. And I have kept that promise. And as long as I have the privilege of being your President, I will keep that promise because I still believe in you. And if you still believe in me, and if you're willing to stand with me and knock on some doors with me and make some phone calls with me, we will finish what we started in 2008. And we will grow this middle class, and we will strengthen America, and we'll remind the world just why it is that we live in the greatest nation on Earth. God bless you, and God bless the United States of America! Thank you!\""
      ]
     },
     "execution_count": 16,
     "metadata": {},
     "output_type": "execute_result"
    }
   ],
   "source": [
    "single_url_speech = baseUrl + actual_speech_links[0][3:]\n",
    "response = requests.get(single_url_speech)\n",
    "soup = BeautifulSoup(response.text)\n",
    "    \n",
    "txt = soup.findAll('span', attrs={'class':'displaytext'})\n",
    "txt[0].text"
   ]
  },
  {
   "cell_type": "code",
   "execution_count": 39,
   "metadata": {
    "collapsed": false
   },
   "outputs": [],
   "source": [
    "file_title = 'data2/' + year + '_' + candidate + '.txt'\n",
    "with open(file_title, 'w') as f:\n",
    "    f.write(txt[0].text)"
   ]
  },
  {
   "cell_type": "code",
   "execution_count": 18,
   "metadata": {
    "collapsed": false
   },
   "outputs": [
    {
     "name": "stderr",
     "output_type": "stream",
     "text": [
      "C:\\Python34\\Lib\\site-packages\\bs4\\__init__.py:166: UserWarning: No parser was explicitly specified, so I'm using the best available HTML parser for this system (\"html.parser\"). This usually isn't a problem, but if you run this code on another system, or in a different virtual environment, it may use a different parser and behave differently.\n",
      "\n",
      "To get rid of this warning, change this:\n",
      "\n",
      " BeautifulSoup([your markup])\n",
      "\n",
      "to this:\n",
      "\n",
      " BeautifulSoup([your markup], \"html.parser\")\n",
      "\n",
      "  markup_type=markup_type))\n"
     ]
    }
   ],
   "source": [
    "str = speech_links[0]\n",
    "year = str[:4]\n",
    "candidate_index = str.rindex('candidate=')\n",
    "candidate = str[candidate_index+10:candidate_index+12]\n",
    "year, candidate\n",
    "\n",
    "# Lets try to get all the data\n",
    "for link in actual_speech_links:   \n",
    "    #print(link.split('?')[1])\n",
    "    single_url_speech = baseUrl + link[3:]\n",
    "    response = requests.get(single_url_speech)\n",
    "    soup = BeautifulSoup(response.text)\n",
    "    \n",
    "    output_file = 'data3/' + year + '_' + candidate + '_' + link.split('?')[1] + '.txt'\n",
    "    try:\n",
    "        with open(output_file, 'w') as f:\n",
    "            txt = soup.findAll('span', attrs={'class':'displaytext'})\n",
    "            f.write(txt[0].text)\n",
    "    except Exception as e:\n",
    "        print(e)"
   ]
  },
  {
   "cell_type": "markdown",
   "metadata": {},
   "source": [
    "# Trying to combine all the speeches into one file"
   ]
  },
  {
   "cell_type": "code",
   "execution_count": 27,
   "metadata": {
    "collapsed": true
   },
   "outputs": [],
   "source": [
    "import os"
   ]
  },
  {
   "cell_type": "code",
   "execution_count": 66,
   "metadata": {
    "collapsed": false
   },
   "outputs": [],
   "source": [
    "path = os.getcwd()+'\\\\data'\n",
    "fileList = os.listdir(path)\n",
    "\n",
    "# fileListUpdate does not consiste of the election url\n",
    "fileListUpdate = [file for file in fileList if 'election' not in file]\n",
    "\n",
    "bulkStr = ''\n",
    "\n",
    "for file in fileListUpdate:\n",
    "    fileWithPath = path + '\\\\' + file\n",
    "    with open(fileWithPath, 'r') as f:\n",
    "        txt = f.readlines()\n",
    "        if len(txt) != 0:\n",
    "            bulkStr = bulkStr + txt[0]"
   ]
  },
  {
   "cell_type": "code",
   "execution_count": 71,
   "metadata": {
    "collapsed": false
   },
   "outputs": [],
   "source": [
    "fileWithPath = path + '\\\\' + 'bulkSpeeches.txt'\n",
    "with open(fileWithPath, 'a') as f:\n",
    "    f.write(bulkStr)"
   ]
  },
  {
   "cell_type": "code",
   "execution_count": 65,
   "metadata": {
    "collapsed": false
   },
   "outputs": [
    {
     "data": {
      "text/plain": [
       "['a', 'b']"
      ]
     },
     "execution_count": 65,
     "metadata": {},
     "output_type": "execute_result"
    }
   ],
   "source": [
    "x = []\n",
    "x.extend(['a'])\n",
    "x.extend(['b'])\n",
    "\n",
    "x"
   ]
  },
  {
   "cell_type": "code",
   "execution_count": null,
   "metadata": {
    "collapsed": true
   },
   "outputs": [],
   "source": []
  }
 ],
 "metadata": {
  "kernelspec": {
   "display_name": "Python 3",
   "language": "python",
   "name": "python3"
  },
  "language_info": {
   "codemirror_mode": {
    "name": "ipython",
    "version": 3
   },
   "file_extension": ".py",
   "mimetype": "text/x-python",
   "name": "python",
   "nbconvert_exporter": "python",
   "pygments_lexer": "ipython3",
   "version": "3.4.3"
  }
 },
 "nbformat": 4,
 "nbformat_minor": 0
}
