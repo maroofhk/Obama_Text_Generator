{
 "cells": [
  {
   "cell_type": "code",
   "execution_count": 25,
   "metadata": {
    "collapsed": true
   },
   "outputs": [],
   "source": [
    "import pandas as pd\n",
    "import numpy as np\n",
    "import nltk\n",
    "import matplotlib.pyplot as plt\n",
    "\n",
    "from bs4 import BeautifulSoup\n",
    "import requests\n",
    "import string\n",
    "\n",
    "%matplotlib inline"
   ]
  },
  {
   "cell_type": "code",
   "execution_count": 41,
   "metadata": {
    "collapsed": true
   },
   "outputs": [],
   "source": [
    "from nltk.tokenize import sent_tokenize\n",
    "from nltk.tokenize import TreebankWordTokenizer"
   ]
  },
  {
   "cell_type": "code",
   "execution_count": 9,
   "metadata": {
    "collapsed": true
   },
   "outputs": [],
   "source": [
    "url = 'http://www.americanrhetoric.com/speeches/convention2016/barackobamadnc2016.htm'\n",
    "response = requests.get(url)"
   ]
  },
  {
   "cell_type": "code",
   "execution_count": 20,
   "metadata": {
    "collapsed": false
   },
   "outputs": [
    {
     "name": "stderr",
     "output_type": "stream",
     "text": [
      "C:\\Python34\\Lib\\site-packages\\bs4\\__init__.py:166: UserWarning: No parser was explicitly specified, so I'm using the best available HTML parser for this system (\"html.parser\"). This usually isn't a problem, but if you run this code on another system, or in a different virtual environment, it may use a different parser and behave differently.\n",
      "\n",
      "To get rid of this warning, change this:\n",
      "\n",
      " BeautifulSoup([your markup])\n",
      "\n",
      "to this:\n",
      "\n",
      " BeautifulSoup([your markup], \"html.parser\")\n",
      "\n",
      "  markup_type=markup_type))\n"
     ]
    }
   ],
   "source": [
    "soup = BeautifulSoup(response.text)\n",
    "#print(soup.prettify())"
   ]
  },
  {
   "cell_type": "code",
   "execution_count": 24,
   "metadata": {
    "collapsed": false
   },
   "outputs": [
    {
     "data": {
      "text/plain": [
       "'\\r\\n\\t\\tHello, America!'"
      ]
     },
     "execution_count": 24,
     "metadata": {},
     "output_type": "execute_result"
    }
   ],
   "source": [
    "paras = soup.findAll('p', attrs={'align' : 'left'})"
   ]
  },
  {
   "cell_type": "code",
   "execution_count": 63,
   "metadata": {
    "collapsed": true
   },
   "outputs": [],
   "source": [
    "def cleanBackslash(str):\n",
    "    for element in ['\\r','\\t','\\r','\\n','\\xa0','\\x93a','\\x02s','\\x92s','\\x92','\\x94']:\n",
    "        str = str.replace(element, '')\n",
    "    return str"
   ]
  },
  {
   "cell_type": "code",
   "execution_count": 64,
   "metadata": {
    "collapsed": false
   },
   "outputs": [
    {
     "data": {
      "text/plain": [
       "['So, twelve years ago tonight,I addressed this convention for the very first time.']"
      ]
     },
     "execution_count": 64,
     "metadata": {},
     "output_type": "execute_result"
    }
   ],
   "source": [
    "sentence1 = cleanBackslash(paras[4].text)\n",
    "s = sent_tokenize(sentence1)\n",
    "s\n",
    "# tokenizer = TreebankWordTokenizer()\n",
    "# tokenizer.tokenize(s[0])"
   ]
  },
  {
   "cell_type": "code",
   "execution_count": 65,
   "metadata": {
    "collapsed": false
   },
   "outputs": [
    {
     "data": {
      "text/plain": [
       "['',\n",
       " '[audio-to-text transcript verification in process]',\n",
       " 'Hello, America!',\n",
       " 'Hello, Democrats!',\n",
       " 'So, twelve years ago tonight,I addressed this convention for the very first time.',\n",
       " 'You met my two little girls, Malia and Sasha -- now two amazing young women who just fill me with pride. You fell for my brilliant wife and partner Michelle, who has made me a better father and a better man; who gone on to inspire our nation as First Lady; and who somehow hasnt aged a day.',\n",
       " 'I -- I know the same cant be said for me. My girls remind me all the time: \"Wow, youve changed so much, daddy.\" And then they try to clean it up. Yeah. Not bad -- just more mature.',\n",
       " \"And -- And it true: I -- I was so young that first time in Boston.And...look, I'll admit maybe a little nervous addressing such a big crowd. But I was filled with faith, faith in America -- the generous, bighearted, hopeful country that made my story, that made all of our stories possible.\",\n",
       " \"A lot happened over the years. And while this nation has been tested by war, and it's been tested recession and all manner of challenges, I stand before you again tonight, after almost two terms as your President, to tell you I am more optimistic about the future of America than every before.\",\n",
       " 'How could I not be after all that weve achieved together?',\n",
       " 'After the worst recession in 80 years, weve fought our way back. Weve seen deficits come down, 401k)s recover, an auto industry set new records, unemployment reach eight-year lows, and our businesses create 15 million new jobs.',\n",
       " 'After a century of trying, we declared that health care in America is not a privilege for a few; it is a right for everybody.',\n",
       " 'After decades of talk, we finally began to wean ourselves off foreign oil. We doubled our production of clean energy. ',\n",
       " 'We brought more of our troops home to their families. And we delivered justice to Osama bin Laden.',\n",
       " 'Through diplomacy, we shut down Iran nuclear weapons program. ',\n",
       " 'We opened up a new chapter with the people of Cuba; brought nearly 200 nations together around a climate agreement that could save this planet for our children.',\n",
       " 'We put policies in place to help students with loans, protect consumers from fraud, cut veteran homelessness almost in half.',\n",
       " 'And through countless acts of quiet courage, America learned that love has no limits, and marriage equality is now a reality across the land.',\n",
       " 'By so many measures, our country is stronger and more prosperous than it was when we started.And through every victory and every setback, Ive insisted that change is never easy, and never quick; that we wouldnt meet all of our challenges in one term, or one presidency, or even in one lifetime.',\n",
       " \"So tonight, Im here to tell you that, yes, we've still got more work to do -- more work to do for every American still in need of a good job or a raise, paid leave or a decent retirement; for every child who needs a sturdier ladder out of poverty or a world-class education; for everyone who has not yet felt the progress of these past seven and a half years. We need to keep making our streets safer, and our criminal justice system fairer; our homeland more secure; our world more peaceful and sustainable for the next generation. Were not done perfecting our union, or living up to our founding creed -- that all of us are created equal; all of use are free in the eyes of God.\",\n",
       " \"And that work involves a big choice this November. I think it's fair to say, this is not your typical election. It not just a choice between parties or policies -- the usual debates between left and right. This is a more fundamental choice -- about who we are as a people, and whether we stay true to this great American experiment in self-government.\",\n",
       " 'Look, we Democrats have always had plenty of differences with the Republican Party, and there nothing wrong with that; it precisely this contest of idea[s] that pushes our country forward.',\n",
       " 'But what we heard in Cleveland last week wasnt particularly Republican -- and it sure wasnt conservative. What we heard was a deeply pessimistic vision of a country where we turn against each other, and turn away from the rest of the world. There were no serious solutions to pressing problems -- just the fanning of resentment, and blame, and anger, and hate.And that is not the America I know.',\n",
       " 'The America I know is full of courage and optimism and ingenuity. The America I know is decent and generous. Sure, we have real anxieties  about paying the bills, and protecting our kids, caring for a sick parent. We get frustrated with political gridlock, and worry about racial divisions. We are shocked and saddened by the madness of Orlando -- or Nice. There are pockets of America that never recovered from factory closures -- men who took pride in hard work and providing for their families who now feel forgotten; parents who wonder whether their kids will have the same opportunities that we had.',\n",
       " '[audio-to-text verified to here] ',\n",
       " 'All of that is real. We are challenged to do better; to be better.',\n",
       " 'But as Ive traveled this country, through all 50 states, as Ive rejoiced with you and mourned with you, what I have also seen, more than anything, is what is right with America. I see people working hard and starting businesses. I see people teaching kids and serving our country. I see engineers inventing stuff, doctors coming up with new cures. I see a younger generation full of energy and new ideas, not constrained by what is, ready to seize what ought to be.',\n",
       " \"And most of all, I see Americans of every party, every background, every faith who believe that we are stronger together -- black, white, Latino, Asian, Native American; young, old; gay, straight; men, women, folks with disabilities, all pledging allegiance, under the same proud flag, to this big, bold country that we love. That's what I see. That's the America I know!\",\n",
       " 'And there is only one candidate in this race who believes in that future, has devoted her life to that future; a mother and a grandmother who would do anything to help our children thrive; a leader with real plans to break down barriers, and blast through glass ceilings, and widen the circle of opportunity to every single American -- the next President of the United States, Hillary Clinton.',\n",
       " 'Audience: Hillary! Hillary! Hillary!',\n",
       " \"President Obama: That's right!\",\n",
       " 'Let me tell you, eight years ago, you may remember Hillary and I were rivals for the Democratic nomination. We battled for a year and a half. Let me tell you, it was tough, because Hillary was tough. I was worn out. She was doing everything I was doing, but just like Ginger Rogers, it was backwards in heels. And every time I thought I might have the race won, Hillary just came back stronger.',\n",
       " 'But after it was all over, I asked Hillary to join my team. And she was a little surprised. Some of my staff was surprised. But ultimately she said yes -- because she knew that what was at stake was bigger than either of us. And for four years -- for four years, I had a front-row seat to her intelligence, her judgment, and her discipline. I came to realize that her unbelievable work ethic wasnt for praise, it wasnt for attention -- that she was in this for everyone who needs a champion. I understood that after all these years, she has never forgotten just who she fighting for.',\n",
       " 'Hillary has still got the tenacity that she had as a young woman, working at the Children Defense Fund, going door-to-door to ultimately make sure kids with disabilities could get a quality education.',\n",
       " 'She still got the heart she showed as our First Lady, working with Congress to help push through a Children Health Insurance Program that to this day protects millions of kids.',\n",
       " 'She still seared with the memory of every American she met who lost loved ones on 9/11 -- which is why, as a Senator from New York, she fought so hard for funding to help first responders, to help the city rebuild; why, as Secretary of State, she sat with me in the Situation Room and forcefully argued in favor of the mission that took out bin Laden.',\n",
       " 'You know, nothing truly prepares you for the demands of the Oval Office. You can read about it. You can study it. But until youve sat at that desk, you dont know what it like to manage a global crisis, or send young people to war. But Hillary has been in the room; she been part of those decisions. She knows what at stake in the decisions our government makes -- what at stake for the working family, for the senior citizen, or the small business owner, for the soldier, for the veteran. And even in the midst of crisis, she listens to people, and she keeps her cool, and she treats everybody with respect. And no matter how daunting the odds, no matter how much people try to knock her down, she never, ever quits.',\n",
       " 'That is the Hillary I know. That the Hillary Ive come to admire. And that why I can say with confidence there has never been a man or a woman -- not me, not Bill, nobody -- more qualified than Hillary Clinton to serve as President of the United States of America.',\n",
       " '',\n",
       " \"I hope you don't mind, Bill, but I was just telling the truth, man.\",\n",
       " '',\n",
       " 'And, by the way, in case youre wondering about her judgment, take a look at her choice of running mate. Tim Kaine is as good a man, as humble and as committed a public servant as anybody that I know. I know his family. I love Anne. I love their kids. He will be a great Vice President. He will make Hillary a better President -- just like my dear friend and brother, Joe Biden, has made me a better President.',\n",
       " 'Now, Hillary has real plans to address the concerns she heard from you on the campaign trail. She got specific ideas to invest in new jobs, to help workers share in their company profits, to help put kids in preschool and put students through college without taking on a ton of debt. That what leaders do. And then there Donald Trump.',\n",
       " 'Audience: Booo --',\n",
       " \"President Obama: Don't boo -- vote.\",\n",
       " \"Audience: Don't boo, vote! Don't boo, vote!\",\n",
       " 'President Obama: You know, the Donald is not really a plans guy. He not really a facts guy, either. He calls himself a business guy, which is true, but I have to say, I know plenty of businessmen and women whove achieved remarkable success without leaving a trail of lawsuits, and unpaid workers, and people feeling like they got cheated.',\n",
       " 'Does anyone really believe that a guy who spent his 70 years on this Earth showing no regard for working people is suddenly going to be your champion? Your voice?',\n",
       " 'Audience: Nooo --',\n",
       " \"President Obama: If so, you should vote for him. But if youre someone who truly concerned about paying your bills, if you're really concerned about pocketbook issues and seeing the economy grow, and creating more opportunity for everybody, then the choice isnt even close. If you want someone with a lifelong track record of fighting for higher wages, and better benefits, and a fairer tax code, and a bigger voice for workers, and stronger regulations on Wall Street, then you should vote for Hillary Clinton.\",\n",
       " 'If youre rightly concerned about who going to keep you and your family safe in a dangerous world, well, the choice is even clearer. Hillary Clinton is respected around the world -- not just by leaders, but by the people they serve.',\n",
       " \"I have to say this. People outside of the United States do not understand what going on in this election. They really don't. Because they know Hillary. Theyve seen her work. She worked closely with our intelligence teams, our diplomats, our military. She has the judgment and the experience and the temperament to meet the threat from terrorism. It not new to her. Our troops have pounded ISIL without mercy, taking out their leaders, taking back territory. And I know Hillary wont relent until ISIL is destroyed. She will finish the job. And she will do it without resorting to torture, or banning entire religions from entering our country. She is fit and she is ready to be the next Commander-in-Chief.\",\n",
       " 'Meanwhile, Donald Trump calls our military a disaster. Apparently, he doesnt know the men and women who make up the strongest fighting force the world has ever known. He suggests America is weak. He must not hear the billions of men and women and children, from the Baltics to Burma, who still look to America to be the light of freedom and dignity and human rights. He cozies up to Putin, praises Saddam Hussein, tells our NATO allies that stood by our side after 9/11 that they have to pay up if they want our protection.',\n",
       " 'Well, America promises do not come with a price tag. We meet our commitments. We bear our burdens. That one of the reasons why almost every country on Earth sees America as stronger and more respected today than they did eight years ago when I took office.',\n",
       " 'America is already great. America is already strong. And I promise you, our strength, our greatness, does not depend on Donald Trump. In fact, it doesnt depend on any one person. And that, in the end, may be the biggest difference in this election -- the meaning of our democracy.',\n",
       " 'Ronald Reagan called America  shining city on a hill. Donald Trump calls it  divided crime scene that only he can fix. It doesnt matter to him that illegal immigration and the crime rate are as low as theyve been in decades -- because he not actually offering any real solutions to those issues. He just offering slogans, and he offering fear. He betting that if he scares enough people, he might score just enough votes to win this election.',\n",
       " \"And that's another bet that Donald Trump will lose. And the reason he'll lose it is because he selling the American people short. We're not a fragile people. We're not a frightful people. Our power doesnt come from some self-declared savior promising that he alone can restore order as long as we do things his way. We dont look to be ruled. Our power comes from those immortal declarations first put to paper right here in Philadelphia all those years ago: We hold these truths to be self-evident, that all men are created equal; that We the People, can form a more perfect union.\",\n",
       " \"That's who we are. That our birthright -- the capacity to shape our own destiny. That what drove patriots to choose revolution over tyranny and our GIs to liberate a continent. It what gave women the courage to reach for the ballot, and marchers to cross a bridge in Selma, and workers to organize and fight for collective bargaining and better wages.\",\n",
       " 'America has never been about what one person says hell do for us. It about what can be achieved by us, together through the hard and slow, and sometimes frustrating, but ultimately enduring work of self-government.',\n",
       " \"And that what Hillary Clinton understands. She knows that this is a big, diverse country. She has seen it. She's traveled. She's talked to folks. And she understands that most issues are rarely black and white. She understands that even when youre 100 percent right, getting things done requires compromise; that democracy doesnt work if we constantly demonize each other. She knows that for progress to happen, we have to listen to each other, and see ourselves in each other, and fight for our principles but also fight to find common ground, no matter how elusive that may sometimes seem.\",\n",
       " 'Hillary knows we can work through racial divides in this country when we realize the worry black parents feel when their son leaves the house isnt so different than what a brave cop family feels when he puts on the blue and goes to work; that we can honor police and treat every community fairly. We can do that. And she knows -- she knows that acknowledging problems that have festered for decades isnt making race relations worse -- it creating the possibility for people of goodwill to join and make things better.',\n",
       " 'Hillary knows we can insist on a lawful and orderly immigration system while still seeing striving students and their toiling parents as loving families, not criminals or rapists; families that came here for the same reason our forebears came -- to work and to study, and to make a better life, in a place where we can talk and worship and love as we please. She knows their dream is quintessentially American, and the American Dream is something no wall will ever contain. These are the things that Hillary knows.',\n",
       " 'It can be frustrating, this business of democracy. Trust me, I know. Hillary knows, too. When the other side refuses to compromise, progress can stall. People are hurt by the inaction. Supporters can grow impatient and worry that youre not trying hard enough; that youve maybe sold out. But I promise you, when we keep at it, when we change enough minds, when we deliver enough votes, then progress does happen. And if you doubt that, just ask the 20 million more people who have health care today. Just ask the Marine who proudly serves his country without hiding the husband that he loves.',\n",
       " 'Democracy works, America, but we got to want it -- not just during an election year, but all the days in between.',\n",
       " 'So if you agree that there too much inequality in our economy and too much money in our politics, we all need to be as vocal and as organized and as persistent as Bernie Sanders supporters have been during this election. We all need to get out and vote for Democrats up and down the ticket, and then hold them accountable until they get the job done. ',\n",
       " \"That's right -- feel the Bern! \",\n",
       " \"If you want more justice in the justice system, then weve all got to vote -- not just for a President, but for mayors, and sheriffs, and state attorneys, and state legislators. That's where the criminal law is made. And weve got to work with police and protesters until laws and practices are changed. That's how democracy works.  \",\n",
       " \"If you want to fight climate change, weve got to engage not only young people on college campuses, we've got to reach out to the coal miner who worried about taking care of his family, the single mom worried about gas prices. \",\n",
       " 'If you want to protect our kids and our cops from gun violence, weve got to get the vast majority of Americans, including gun owners, who agree on things like background checks to be just as vocal and just as determined as the gun lobby that blocks change through every funeral that we hold. That is how change happens. ',\n",
       " 'Look, Hillary has got her share of critics. She has been caricatured by the right and by some on the left. She has been accused of everything you can imagine -- and some things that you cannot. But she knows that what happens when youre under a microscope for 40 years. She knows that sometimes during those 40 years she made mistakes -- just like I have; just like we all do. That what happens when we try. That what happens when youre the kind of citizen Teddy Roosevelt once described -- not the timid souls who criticize from the sidelines, but someone \\x93who is actually in the arena\\x85who strives valiantly; who errs\\x85but who at the best knows in the end the triumph of high achievement. ',\n",
       " 'Hillary Clinton is that woman in the arena. She been there for us -- even if we havent always noticed. And if youre serious about our democracy, you cant afford to stay home just because she might not align with you on every issue. Youve got to get in the arena with her, because democracy isnt a spectator sport. America isnt about \\x93yes, he will. It about \\x93yes, we can. And were going to carry Hillary to victory this fall, because that what the moment demands. ',\n",
       " 'Audience: Yes, we can! Yes, we can! Yes, we can!',\n",
       " 'President Obama: Yes, we can. Not \"yes, she can.\" Not \"yes, I can.\" \"Yes, we can.\"',\n",
       " 'You know, there been a lot of talk in this campaign about what America has lost -- people who tell us that our way of life is being undermined by pernicious changes and dark forces beyond our control. They tell voters there a \\x93real America out there that must be restored. This isnt an idea, by the way, that started with Donald Trump. It been peddled by politicians for a long time -- probably from the start of our Republic.',\n",
       " 'And it got me thinking about the story I told you 12 years ago tonight, about my Kansas grandparents and the things they taught me when I was growing up. See, my grandparents, they came from the heartland. Their ancestors began settling there about 200 years ago. I dont know if they have their birth certificates -- but they were there. They were Scotch-Irish mostly -- farmers, teachers, ranch hands, pharmacists, oil rig workers. Hardy, small town folks. Some were Democrats, but a lot of them -- maybe even most of them -- were Republicans. Party of Lincoln. ',\n",
       " 'And my grandparents explained that folks in these parts, they didnt like show-offs. They didnt admire braggarts or bullies. They didnt respect mean-spiritedness, or folks who were always looking for shortcuts in life. Instead, what they valued were traits like honesty and hard work, kindness, courtesy, humility, responsibility, helping each other out. That what they believed in. True things. Things that last. The things we try to teach our kids. ',\n",
       " 'And what my grandparents understood was that these values werent limited to Kansas. They werent limited to small towns. These values could travel to Hawaii. They could travel even to the other side of the world, where my mother would end up working to help poor women get a better life; trying to apply those values. My grandparents knew these values werent reserved for one race. They could be passed down to a half-Kenyan grandson, or a half-Asian granddaughter. In fact, they were the same values Michelle parents, the descendants of slaves, taught their own kids, living in a bungalow on the South Side of Chicago. They knew these values were exactly what drew immigrants here, and they believed that the children of those immigrants were just as American as their own, whether they wore a cowboy hat or a yarmulke, a baseball cap or a hijab.',\n",
       " 'America has changed over the years. But these values that my grandparents taught me -- they havent gone anywhere. Theyre as strong as ever, still cherished by people of every party, every race, every faith. They live on in each of us. What makes us American, what makes us patriots is what in here. That what matters.',\n",
       " 'And that why we can take the food and music and holidays and styles of other countries, and blend it into something uniquely our own. That why we can attract strivers and entrepreneurs from around the globe to build new factories and create new industries here. That why our military can look the way it does -- every shade of humanity, forged into common service. That why anyone who threatens our values, whether fascists or communists or jihadists or homegrown demagogues, will always fail in the end. ',\n",
       " 'That is America. That is America. Those bonds of affection; that common creed. We dont fear the future; we shape it. We embrace it, as one people, stronger together than we are on our own. That what Hillary Clinton understands -- this fighter, this stateswoman, this mother and grandmother, this public servant, this patriot -- that the America she fighting for. ',\n",
       " 'And that is why I have confidence, as I leave this stage tonight, that the Democratic Party is in good hands. My time in this office, it hasnt fixed everything. As much as weve done, there still so much I want to do. But for all the tough lessons Ive had to learn, for all the places where Ive fallen short -- Ive told Hillary, and Ill tell you, what picked me back up every single time: It been you. The American people. ',\n",
       " 'It the letter I keep on my wall from a survivor in Ohio who twice almost lost everything to cancer, but urged me to keep fighting for health care reform, even when the battle seemed lost. Do not quit.',\n",
       " 'It the painting I keep in my private office, a big-eyed, green owl with blue wings, made by a seven year-old girl who was taken from us in Newtown, given to me by her parents so I wouldnt forget -- a reminder of all the parents who have turned their grief into action. ',\n",
       " 'It the small business owner in Colorado who cut most of his own salary so he wouldnt have to lay off any of his workers in the recession -- because, he said, \\x93that wouldnt have been in the spirit of America.',\n",
       " 'It the conservative in Texas who said he disagreed with me on everything, but he appreciated that, like him, I try to be a good dad. ',\n",
       " 'It the courage of the young soldier from Arizona who nearly died on the battlefield in Afghanistan, but who has learned to speak again and walk again -- and earlier this year, stepped through the door of the Oval Office on his own power, to salute and shake my hand. ',\n",
       " 'It is every American who believed we could change this country for the better, so many of you whod never been involved in politics, who picked up phones and hit the streets, and used the Internet in amazing new ways that I didnt really understand, but made change happen. You are the best organizers on the planet, and I am so proud of all the change that you made possible. ',\n",
       " \"Time and again, youve picked me up. And I hope, sometimes, I picked you up, too. And tonight, I ask you to do for Hillary Clinton what you did for me. I ask you to carry her the same way you carried me. Because you're who I was talking about 12 years ago when I talked about hope. It been you who fueled my dogged faith in our future, even when the odds were great; even when the road is long. Hope in the face of difficulty. Hope in the face of uncertainty. The audacity of hope. \",\n",
       " \"America, you've vindicated that hope these past eight years. And now Im ready to pass the baton and do my part as a private citizen. So this year, in this election, Im asking you to join me -- to reject cynicism and reject fear, and to summon what is best in us; to elect Hillary Clinton as the next President of the United States, and show the world we still believe in the promise of this great nation. \",\n",
       " 'Thank you for this incredible journey. Let keep it going.',\n",
       " 'God bless you.',\n",
       " 'God bless the United States of America.',\n",
       " 'Book/CDs by Michael E. Eidenmuller, Published by McGraw-Hill 2008)',\n",
       " 'Text Source: WhiteHouse.govAudio Source: C-SPAN.orgAudio Note: AR-XE = American Rhetoric Extreme EnhancementCopyright Status:Text and Audio = Public domain.',\n",
       " 'Audio Source: C-SPAN.orgAudio Note: AR-XE = American Rhetoric Extreme EnhancementCopyright Status:Text and Audio = Public domain.',\n",
       " 'Audio Note: AR-XE = American Rhetoric Extreme EnhancementCopyright Status:Text and Audio = Public domain.',\n",
       " 'Copyright Status:Text and Audio = Public domain.']"
      ]
     },
     "execution_count": 65,
     "metadata": {},
     "output_type": "execute_result"
    }
   ],
   "source": [
    "sentences = []\n",
    "for para in paras:\n",
    "    sentences.append(cleanBackslash(para.text))\n",
    "    \n",
    "sentences"
   ]
  },
  {
   "cell_type": "code",
   "execution_count": null,
   "metadata": {
    "collapsed": true
   },
   "outputs": [],
   "source": []
  }
 ],
 "metadata": {
  "kernelspec": {
   "display_name": "Python 3",
   "language": "python",
   "name": "python3"
  },
  "language_info": {
   "codemirror_mode": {
    "name": "ipython",
    "version": 3
   },
   "file_extension": ".py",
   "mimetype": "text/x-python",
   "name": "python",
   "nbconvert_exporter": "python",
   "pygments_lexer": "ipython3",
   "version": "3.4.3"
  }
 },
 "nbformat": 4,
 "nbformat_minor": 0
}
